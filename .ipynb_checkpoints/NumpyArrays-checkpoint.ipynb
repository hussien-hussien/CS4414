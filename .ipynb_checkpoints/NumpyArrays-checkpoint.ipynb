{
 "cells": [
  {
   "cell_type": "markdown",
   "metadata": {},
   "source": [
    "# Numpy arrays and linear algebra \n",
    "As you've no doubt noticed, a lot of the material in this class will make use of linear algebra.  Matrix and vector multiplication (a la the dot product) are found in numerous places and you will undoubtebly use/see the `@` operator more than most any other.\n",
    "\n",
    "2-dimensional numpy arrays behave pretty much like we would expect from matrices, but 1-dimensional numpy arrays (i.e. vectors) can be a funny thing.  They look like vectors, they act kind of like vectors, but they aren't vectors in the mathematical sense of the word.  Let me explain."
   ]
  },
  {
   "cell_type": "markdown",
   "metadata": {},
   "source": [
    "## Linear algebra and dot products\n",
    "\n",
    "In math, a vector $\\mathbf{x} \\in \\mathbb{R}^n$ is usually understood to be a *column vector*.  That is, if I were to write out $\\mathbf{x}$ then it would look like\n",
    "\n",
    "$$ \\mathbf{x} = \\begin{bmatrix} x_1 \\\\ x_2 \\\\ \\vdots \\\\ x_n \\end{bmatrix} $$\n",
    "\n",
    "When we write $\\mathbf{x}^T$ that makes $\\mathbf{x}$ a *row vector*.  So if I were to write out $\\mathbf{x}^T$ it would look like\n",
    "\n",
    "$$ \\mathbf{x}^T = \\begin{bmatrix} x_1 \\,, x_2 \\,, \\cdots \\,, x_n \\end{bmatrix} $$\n",
    "\n",
    "When I want to compute a dot product between two vectors $\\mathbf{x}$ and $\\mathbf{y}$ I write\n",
    "\n",
    "$$ \\mathbf{y}^T \\mathbf{x} $$\n",
    "\n",
    "Which means that this is the product between a *row vector* and a *column vector*. \n"
   ]
  },
  {
   "cell_type": "markdown",
   "metadata": {},
   "source": [
    "## One- and two dimensional arrays in numpy\n",
    "Intuitively, we expect that Numpy behaves the same way. The confusion arises because vectors can be represented as 1-d or 2-d arrays. "
   ]
  },
  {
   "cell_type": "code",
   "execution_count": 37,
   "metadata": {},
   "outputs": [
    {
     "name": "stdout",
     "output_type": "stream",
     "text": [
      "x looks like:\n",
      "[1 2 3]\n",
      "[4 5 6]\n"
     ]
    },
    {
     "data": {
      "text/plain": [
       "(3,)"
      ]
     },
     "execution_count": 37,
     "metadata": {},
     "output_type": "execute_result"
    }
   ],
   "source": [
    "import numpy as np\n",
    "\n",
    "# This is a one-dimensional numpy array  \n",
    "x = np.array([1,2,3])\n",
    "y = np.array([4,5,6])\n",
    "\n",
    "print('x looks like:')\n",
    "print(x)\n",
    "print(y)\n",
    "\n",
    "x.shape"
   ]
  },
  {
   "cell_type": "code",
   "execution_count": 38,
   "metadata": {},
   "outputs": [
    {
     "name": "stdout",
     "output_type": "stream",
     "text": [
      "X looks like:\n",
      "[[1]\n",
      " [2]\n",
      " [3]]\n",
      "[[4]\n",
      " [5]\n",
      " [6]]\n"
     ]
    },
    {
     "data": {
      "text/plain": [
       "(3, 1)"
      ]
     },
     "execution_count": 38,
     "metadata": {},
     "output_type": "execute_result"
    }
   ],
   "source": [
    "# We can also store these column vectors in two-dimensional numpy array  \n",
    "X = np.array([[1,2,3]]).T\n",
    "Y = np.array([[4,5,6]]).T\n",
    "\n",
    "print('X looks like:')\n",
    "print(X)\n",
    "print(Y)\n",
    "\n",
    "X.shape"
   ]
  },
  {
   "cell_type": "markdown",
   "metadata": {},
   "source": [
    "## Dot products in numpy \n",
    "The dot-product between two 2d-arrays behaves as we would expect: "
   ]
  },
  {
   "cell_type": "code",
   "execution_count": 39,
   "metadata": {},
   "outputs": [
    {
     "name": "stdout",
     "output_type": "stream",
     "text": [
      "[[32]]\n"
     ]
    }
   ],
   "source": [
    "# row vector by column vector results in a scalar \n",
    "print(X.T@Y)"
   ]
  },
  {
   "cell_type": "markdown",
   "metadata": {},
   "source": [
    "Note that the result is still technically a 2-d array.  "
   ]
  },
  {
   "cell_type": "code",
   "execution_count": 40,
   "metadata": {},
   "outputs": [
    {
     "ename": "ValueError",
     "evalue": "shapes (3,1) and (3,1) not aligned: 1 (dim 1) != 3 (dim 0)",
     "output_type": "error",
     "traceback": [
      "\u001b[0;31m---------------------------------------------------------------------------\u001b[0m",
      "\u001b[0;31mValueError\u001b[0m                                Traceback (most recent call last)",
      "\u001b[0;32m<ipython-input-40-3c3fb494b9f8>\u001b[0m in \u001b[0;36m<module>\u001b[0;34m\u001b[0m\n\u001b[1;32m      1\u001b[0m \u001b[0;31m# If the sizes of the arrays do not align, I am getting an error message\u001b[0m\u001b[0;34m\u001b[0m\u001b[0;34m\u001b[0m\u001b[0;34m\u001b[0m\u001b[0m\n\u001b[0;32m----> 2\u001b[0;31m \u001b[0mX\u001b[0m\u001b[0;34m@\u001b[0m\u001b[0mY\u001b[0m\u001b[0;34m\u001b[0m\u001b[0;34m\u001b[0m\u001b[0m\n\u001b[0m",
      "\u001b[0;31mValueError\u001b[0m: shapes (3,1) and (3,1) not aligned: 1 (dim 1) != 3 (dim 0)"
     ]
    }
   ],
   "source": [
    "# If the sizes of the arrays do not align, I am getting an error message \n",
    "X@Y"
   ]
  },
  {
   "cell_type": "markdown",
   "metadata": {},
   "source": [
    " But take a look at what happens when I compute the dot product between two arrays using `@`."
   ]
  },
  {
   "cell_type": "code",
   "execution_count": 41,
   "metadata": {},
   "outputs": [
    {
     "name": "stdout",
     "output_type": "stream",
     "text": [
      "32\n",
      "32\n"
     ]
    }
   ],
   "source": [
    "# I shouldn't be able to do either of these operations with vectors\n",
    "# because they don't have the right shape\n",
    "print(x@y)\n",
    "print(y@x)\n",
    "# But as you can see, I can:"
   ]
  },
  {
   "cell_type": "markdown",
   "metadata": {},
   "source": [
    "This isn't allowed to happen in linear algebra.  If `x` and `y` are \"vectors\", then numpy is allowing me to take the product of two column vectors without transposing one of them.  The answer is right, the dot product is 32, but 1-d numpy arrays do not behave like vectors.  \n",
    "\n",
    "Indeed, the transpose operator leaves a 1-d array unchanged"
   ]
  },
  {
   "cell_type": "code",
   "execution_count": 42,
   "metadata": {},
   "outputs": [
    {
     "name": "stdout",
     "output_type": "stream",
     "text": [
      "[1 2 3]\n",
      "[1 2 3]\n"
     ]
    }
   ],
   "source": [
    "print(x)\n",
    "print(x.T)"
   ]
  },
  {
   "cell_type": "markdown",
   "metadata": {},
   "source": [
    "A useful function to transform 1-d arrays into 2-d arrays is the function `reshape`. We can transform or data into  `(n,1)` shaped arrays using `x.reshape(-1,1)`.  When you pass `-1` to reshape, you're telling numpy to infer the shape in that dimension.  So if I had an array, `z`, of 3 elements and I called `z.reshape(-1,1)`.  This will reshape the array to be a `(3,1)` array.  We didn't have to tell numpy the size for the first dimension, numpy inferred it from the size of the array.\n",
    "\n",
    "Watch what happens when I now try to take the dot product between these two arrays."
   ]
  },
  {
   "cell_type": "code",
   "execution_count": 43,
   "metadata": {},
   "outputs": [
    {
     "name": "stdout",
     "output_type": "stream",
     "text": [
      "X looks like:\n",
      "[[1]\n",
      " [2]\n",
      " [3]]\n",
      "Y looks like: \n",
      "[[4]\n",
      " [5]\n",
      " [6]]\n"
     ]
    }
   ],
   "source": [
    "X = x.reshape(-1,1)\n",
    "Y = y.reshape(-1,1)\n",
    "\n",
    "print('X looks like:')\n",
    "print(X)\n",
    "print('Y looks like: ')\n",
    "print(Y)"
   ]
  },
  {
   "cell_type": "markdown",
   "metadata": {},
   "source": [
    "Now, these column vectors will behave like I would expect from vectors in linear algebra: "
   ]
  },
  {
   "cell_type": "code",
   "execution_count": 44,
   "metadata": {},
   "outputs": [
    {
     "data": {
      "text/plain": [
       "array([[32]])"
      ]
     },
     "execution_count": 44,
     "metadata": {},
     "output_type": "execute_result"
    }
   ],
   "source": [
    "(X.T@Y)"
   ]
  },
  {
   "cell_type": "markdown",
   "metadata": {},
   "source": [
    "Possibly confusingly, numpy also defines a dot product between a 2-d array and a 1-d array"
   ]
  },
  {
   "cell_type": "code",
   "execution_count": 45,
   "metadata": {},
   "outputs": [
    {
     "data": {
      "text/plain": [
       "array([32])"
      ]
     },
     "execution_count": 45,
     "metadata": {},
     "output_type": "execute_result"
    }
   ],
   "source": [
    "X.T@y"
   ]
  },
  {
   "cell_type": "markdown",
   "metadata": {},
   "source": [
    "Note that the result now is a 1d-array"
   ]
  },
  {
   "cell_type": "markdown",
   "metadata": {},
   "source": [
    "For Assignment 1, you need to be clearly aware of whether you are using 1-d array or 2-d arrays. It will take some time to develop the right intuitions here. \n",
    "For starters it is useful to work consistently with 2-d arrays and ensure that the shapes are appropriate and conducive to multiplication, and that they respect the rules for taking the dot product.  If you are having shape issues, or if you are getting `ValueErrors` mentioning `matmul` (`@` is an alias for `np.matmul`) then I highly suspect the issue will be rectified by considering the topics discussed here."
   ]
  }
 ],
 "metadata": {
  "kernelspec": {
   "display_name": "Python 3",
   "language": "python",
   "name": "python3"
  },
  "language_info": {
   "codemirror_mode": {
    "name": "ipython",
    "version": 3
   },
   "file_extension": ".py",
   "mimetype": "text/x-python",
   "name": "python",
   "nbconvert_exporter": "python",
   "pygments_lexer": "ipython3",
   "version": "3.7.1"
  }
 },
 "nbformat": 4,
 "nbformat_minor": 2
}
