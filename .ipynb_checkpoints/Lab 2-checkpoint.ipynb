{
 "cells": [
  {
   "cell_type": "code",
   "execution_count": null,
   "metadata": {},
   "outputs": [],
   "source": [
    "# Preamble\n",
    "import numpy as np\n",
    "import pandas as pd\n",
    "import seaborn as sns\n",
    "import matplotlib.pyplot as plt\n",
    "import scipy.optimize as so\n",
    "import statsmodels.api as sm\n",
    "import statsmodels.formula.api as smf\n",
    "\n",
    "run_data = pd.read_csv(\"runningSpeeds.csv\")\n",
    "run_data.head()"
   ]
  },
  {
   "cell_type": "code",
   "execution_count": null,
   "metadata": {},
   "outputs": [],
   "source": []
  },
  {
   "cell_type": "markdown",
   "metadata": {},
   "source": [
    "# Data Exploration"
   ]
  },
  {
   "cell_type": "markdown",
   "metadata": {},
   "source": [
    "## One-dimensional - Distribution Plots"
   ]
  },
  {
   "cell_type": "code",
   "execution_count": null,
   "metadata": {
    "scrolled": true
   },
   "outputs": [],
   "source": [
    "# Histogram\n",
    "sns.distplot(run_data.pace, kde=False)"
   ]
  },
  {
   "cell_type": "code",
   "execution_count": null,
   "metadata": {},
   "outputs": [],
   "source": [
    "# Histogram - specify # bins\n",
    "sns.distplot(run_data.pace, bins = 15, kde=False)"
   ]
  },
  {
   "cell_type": "code",
   "execution_count": null,
   "metadata": {
    "scrolled": true
   },
   "outputs": [],
   "source": [
    "# Density estimate\n",
    "sns.distplot(run_data.pace, hist=False)"
   ]
  },
  {
   "cell_type": "code",
   "execution_count": null,
   "metadata": {
    "scrolled": false
   },
   "outputs": [],
   "source": [
    "# Both histogram and density estimate\n",
    "sns.distplot(run_data.pace)"
   ]
  },
  {
   "cell_type": "markdown",
   "metadata": {},
   "source": [
    "## Two-dimensional - Joint Plots"
   ]
  },
  {
   "cell_type": "code",
   "execution_count": null,
   "metadata": {},
   "outputs": [],
   "source": [
    "# Joint distribution plot\n",
    "sns.jointplot(x=\"age\", y=\"pace\", data=run_data)"
   ]
  },
  {
   "cell_type": "code",
   "execution_count": null,
   "metadata": {
    "scrolled": false
   },
   "outputs": [],
   "source": [
    "# Joint distribution plot with estimated density\n",
    "sns.jointplot(x=\"age\", y=\"pace\", data=run_data, kind=\"kde\")"
   ]
  },
  {
   "cell_type": "code",
   "execution_count": null,
   "metadata": {
    "scrolled": false
   },
   "outputs": [],
   "source": [
    "# Joint distribution plot with regression line\n",
    "sns.jointplot(x=\"age\", y=\"pace\", data=run_data, kind=\"reg\")"
   ]
  },
  {
   "cell_type": "code",
   "execution_count": null,
   "metadata": {},
   "outputs": [],
   "source": [
    "# Joint distribution plot with hexes\n",
    "sns.jointplot(x=\"age\", y=\"pace\", data=run_data, kind=\"hex\", gridsize=15)"
   ]
  },
  {
   "cell_type": "markdown",
   "metadata": {},
   "source": [
    "# Maximum Likelihood Example - Laplace Distribution"
   ]
  },
  {
   "cell_type": "code",
   "execution_count": null,
   "metadata": {},
   "outputs": [],
   "source": [
    "# Generate data\n",
    "\n",
    "n = 10001\n",
    "normalData = pd.DataFrame({\"data\": pd.Series(np.random.normal(0,1,n))})\n",
    "laplaceData = pd.DataFrame({\"data\": pd.Series(np.random.laplace(0,1/np.sqrt(2),n))})\n",
    "\n",
    "# Plot\n",
    "sns.distplot(normalData)\n",
    "sns.distplot(laplaceData)"
   ]
  },
  {
   "cell_type": "code",
   "execution_count": null,
   "metadata": {},
   "outputs": [],
   "source": [
    "#Zoom in\n",
    "\n",
    "sns.distplot(normalData)\n",
    "sns.distplot(laplaceData)\n",
    "plt.xlim(2,6)\n",
    "plt.ylim(0,0.1)"
   ]
  },
  {
   "cell_type": "code",
   "execution_count": null,
   "metadata": {},
   "outputs": [],
   "source": [
    "## Laplace Negative Log Likelihood\n",
    "def laplaceNegLogLikelihood(mu, b, y):\n",
    "    neg_log_lik = -np.sum(np.log(2*b) - np.abs(y - mu) / b)\n",
    "    return neg_log_lik"
   ]
  },
  {
   "cell_type": "code",
   "execution_count": null,
   "metadata": {},
   "outputs": [],
   "source": [
    "## Laplace Maximum Likelihood Estimate for mu\n",
    "def maximumLikelihood(y):\n",
    "    # For this demonstration I am fixing b = 1\n",
    "    RES = so.minimize(laplaceNegLogLikelihood, 1, args=(1,y), method=\"Powell\", tol=1e-8)\n",
    "    print(RES)\n",
    "    return RES.x\n",
    "\n",
    "maximumLikelihood(laplaceData.values)"
   ]
  },
  {
   "cell_type": "code",
   "execution_count": null,
   "metadata": {},
   "outputs": [],
   "source": [
    "# Should give same answer as median!\n",
    "laplaceData.median()"
   ]
  },
  {
   "cell_type": "code",
   "execution_count": null,
   "metadata": {},
   "outputs": [],
   "source": [
    "# Laplace Negative Log Likelihood for regression\n",
    "def laplaceRegNegLogLikelihood(beta, X, y):\n",
    "    mu = (X@beta).reshape(-1,1)\n",
    "    return laplaceNegLogLikelihood(mu, 1, y)"
   ]
  },
  {
   "cell_type": "code",
   "execution_count": null,
   "metadata": {},
   "outputs": [],
   "source": [
    "# Function to maximize regression log likelihood\n",
    "def maximumRegLikelihood(X, y, negloglik=laplaceRegNegLogLikelihood):\n",
    "    ### BEGIN SOLUTION\n",
    "    nrows,ncols = X.shape\n",
    "    betas=np.zeros((ncols,1))\n",
    "    RES = so.minimize(negloglik, betas, args=(X,y), method=\"Powell\", tol=1e-8)\n",
    "    print(RES)\n",
    "    return RES.x\n",
    "\n",
    "age = run_data.age.values\n",
    "X = np.c_[np.ones(age.size), age]\n",
    "y = run_data.pace.values.reshape(-1,1)\n",
    "b,loss = maximumRegLikelihood(X,y)\n",
    "   "
   ]
  },
  {
   "cell_type": "code",
   "execution_count": null,
   "metadata": {},
   "outputs": [],
   "source": [
    "# Check against statsmodels - median regression\n",
    "sad_fit = smf.quantreg('pace ~ age', data = run_data).fit(q = 0.5)\n",
    "sad_fit.summary()"
   ]
  }
 ],
 "metadata": {
  "kernelspec": {
   "display_name": "Python 3",
   "language": "python",
   "name": "python3"
  },
  "language_info": {
   "codemirror_mode": {
    "name": "ipython",
    "version": 3
   },
   "file_extension": ".py",
   "mimetype": "text/x-python",
   "name": "python",
   "nbconvert_exporter": "python",
   "pygments_lexer": "ipython3",
   "version": "3.7.1"
  }
 },
 "nbformat": 4,
 "nbformat_minor": 2
}
