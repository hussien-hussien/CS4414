{
 "cells": [
  {
   "cell_type": "code",
   "execution_count": 1,
   "metadata": {},
   "outputs": [],
   "source": [
    "from IPython.display import display\n",
    "import numpy as np\n",
    "import pandas as pd\n",
    "import matplotlib.pyplot as plt\n",
    "import seaborn as sns\n",
    "import scipy\n",
    "import sklearn.model_selection\n",
    "import statsmodels\n",
    "import statsmodels.formula.api as sm\n",
    "import statsmodels.stats.proportion"
   ]
  },
  {
   "cell_type": "markdown",
   "metadata": {},
   "source": [
    "# Confidence Interval Basics"
   ]
  },
  {
   "cell_type": "code",
   "execution_count": 2,
   "metadata": {},
   "outputs": [],
   "source": [
    "# From PTSD paper, there were 52 test cases, 42 of which were correct\n",
    "n = 52\n",
    "c = 42\n",
    "\n",
    "# Create array of zeros, size n\n",
    "zeros = np.zeros((1,n))\n",
    "# Set first c elements to 1\n",
    "\n",
    "# Create pandas data frame\n"
   ]
  },
  {
   "cell_type": "code",
   "execution_count": 3,
   "metadata": {},
   "outputs": [
    {
     "data": {
      "text/plain": [
       "array([[0., 0., 0., 0., 0., 0., 0., 0., 0., 0., 0., 0., 0., 0., 0., 0.,\n",
       "        0., 0., 0., 0., 0., 0., 0., 0., 0., 0., 0., 0., 0., 0., 0., 0.,\n",
       "        0., 0., 0., 0., 0., 0., 0., 0., 0., 0., 0., 0., 0., 0., 0., 0.,\n",
       "        0., 0., 0., 0.]])"
      ]
     },
     "execution_count": 3,
     "metadata": {},
     "output_type": "execute_result"
    }
   ],
   "source": [
    "# Compute 10000 bootstrap datasets, compute means in each\n",
    "zeros"
   ]
  },
  {
   "cell_type": "code",
   "execution_count": null,
   "metadata": {},
   "outputs": [],
   "source": [
    "# Plot histogram\n"
   ]
  },
  {
   "cell_type": "code",
   "execution_count": null,
   "metadata": {},
   "outputs": [],
   "source": [
    "# Compute confidence interval\n",
    "\n",
    "boot_ci = \n",
    "print(boot_ci)"
   ]
  },
  {
   "cell_type": "code",
   "execution_count": null,
   "metadata": {},
   "outputs": [],
   "source": [
    "## Using central limit theorem, compute confidence interval\n",
    "\n",
    "stderr = \n",
    "\n",
    "# Area under a standard normal from -1.96 to 1.96 is about 95%\n",
    "critval = \n",
    "norm_ci = \n",
    "\n",
    "print(f\"Boot ci: {boot_ci}\")\n",
    "print(f\"Norm ci: {norm_ci}\")"
   ]
  },
  {
   "cell_type": "code",
   "execution_count": null,
   "metadata": {},
   "outputs": [],
   "source": [
    "# Using t-distribution\n",
    "# Degrees of freedom of t distribution for this method is n-1\n",
    "\n",
    "my_df = \n",
    "# The ppf function is the inverse of the CDF. Given a probability p,\n",
    "# it tells us the x for which CDF(x) = p\n",
    "\n",
    "critval = \n",
    "print(f\"Critical value: {critval}\")\n",
    "\n",
    "t_ci = \n",
    "\n",
    "print(f\"Boot ci: {boot_ci}\")\n",
    "print(f\"Norm ci: {norm_ci}\")\n",
    "print(f\"   t ci: {t_ci}\")"
   ]
  },
  {
   "cell_type": "code",
   "execution_count": null,
   "metadata": {},
   "outputs": [],
   "source": [
    "# Easy approximate confidence intervals\n",
    "model = sm.ols('Match ~ 1', data = data).fit()\n",
    "\n",
    "display(model.summary())\n",
    "\n",
    "print(f\"Boot ci: {boot_ci}\")\n",
    "print(f\"Norm ci: {norm_ci}\")\n",
    "print(f\"   t ci: {t_ci}\")"
   ]
  },
  {
   "cell_type": "markdown",
   "metadata": {},
   "source": [
    "# Prediction bootstrap "
   ]
  },
  {
   "cell_type": "code",
   "execution_count": null,
   "metadata": {},
   "outputs": [],
   "source": [
    "# Data: 1000 births from North Carolina\n",
    "# https://www.openintro.org/stat/data/?data=nc\n",
    "\n",
    "births = pd.read_csv(\"nc.csv\")\n",
    "display(births)"
   ]
  },
  {
   "cell_type": "code",
   "execution_count": null,
   "metadata": {},
   "outputs": [],
   "source": [
    "# Make a Joint plot between weeks and weight\n"
   ]
  },
  {
   "cell_type": "code",
   "execution_count": null,
   "metadata": {},
   "outputs": [],
   "source": [
    "# Split the data using the sample size we decide on\n"
   ]
  },
  {
   "cell_type": "code",
   "execution_count": null,
   "metadata": {},
   "outputs": [],
   "source": [
    "# Train a model on the training set and plot the fit \n"
   ]
  },
  {
   "cell_type": "code",
   "execution_count": null,
   "metadata": {},
   "outputs": [],
   "source": [
    "# Write a Bootstrap function that records the fitted models \n",
    "def BootstrapFit(data):\n",
    "    numboot = 1000\n",
    "   "
   ]
  },
  {
   "cell_type": "code",
   "execution_count": null,
   "metadata": {},
   "outputs": [],
   "source": [
    "# Get 1000 Bootstrap fits\n"
   ]
  },
  {
   "cell_type": "code",
   "execution_count": null,
   "metadata": {},
   "outputs": [],
   "source": [
    "#  Extract the parameters for the 1000 Boostrap fits.\n",
    "#  Also generate the predictions for the 1000 Bootstrap fits \n"
   ]
  },
  {
   "cell_type": "code",
   "execution_count": null,
   "metadata": {},
   "outputs": [],
   "source": [
    "# Make a joint plot of two parameters \n"
   ]
  },
  {
   "cell_type": "code",
   "execution_count": null,
   "metadata": {},
   "outputs": [],
   "source": [
    "# Make a data frame from the parameter estimates \n",
    "\n",
    "# Produce a pair plot of all co-dependencies \n"
   ]
  },
  {
   "cell_type": "code",
   "execution_count": null,
   "metadata": {},
   "outputs": [],
   "source": [
    "# Plot 20 of the bootstrapped predictions \n"
   ]
  },
  {
   "cell_type": "code",
   "execution_count": null,
   "metadata": {},
   "outputs": [],
   "source": [
    "# Caluculate upper and lower confidence bounds for prediction \n",
    "# From Bootstrapped means \n"
   ]
  }
 ],
 "metadata": {
  "kernelspec": {
   "display_name": "Python 3",
   "language": "python",
   "name": "python3"
  },
  "language_info": {
   "codemirror_mode": {
    "name": "ipython",
    "version": 3
   },
   "file_extension": ".py",
   "mimetype": "text/x-python",
   "name": "python",
   "nbconvert_exporter": "python",
   "pygments_lexer": "ipython3",
   "version": "3.7.1"
  }
 },
 "nbformat": 4,
 "nbformat_minor": 2
}
