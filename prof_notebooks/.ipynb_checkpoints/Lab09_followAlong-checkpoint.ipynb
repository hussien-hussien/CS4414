{
 "cells": [
  {
   "cell_type": "markdown",
   "metadata": {},
   "source": [
    "# Lab 09 - Support Vector Machines"
   ]
  },
  {
   "cell_type": "code",
   "execution_count": 1,
   "metadata": {},
   "outputs": [],
   "source": [
    "# You may need these\n",
    "import matplotlib.pyplot as plt \n",
    "import seaborn as sb\n",
    "import numpy as np\n",
    "import pandas as pd\n",
    "from sklearn.datasets import make_blobs, make_moons\n",
    "from sklearn.model_selection import cross_validate,GridSearchCV\n",
    "from sklearn.metrics import accuracy_score, make_scorer\n",
    "import sklearn.svm as svm\n",
    "\n",
    "import matplotlib.pyplot as plt\n",
    "%matplotlib inline"
   ]
  },
  {
   "cell_type": "markdown",
   "metadata": {},
   "source": [
    "# Make a classical example data set"
   ]
  },
  {
   "cell_type": "code",
   "execution_count": 2,
   "metadata": {},
   "outputs": [
    {
     "data": {
      "text/plain": [
       "<matplotlib.axes._subplots.AxesSubplot at 0x12d163f90>"
      ]
     },
     "execution_count": 2,
     "metadata": {},
     "output_type": "execute_result"
    },
    {
     "data": {
      "image/png": "[encoded data removed]",
      "text/plain": [
       "<Figure size 432x288 with 1 Axes>"
      ]
     },
     "metadata": {
      "needs_background": "light"
     },
     "output_type": "display_data"
    }
   ],
   "source": [
    "# Use sklearn's make_moon to make a clasical nonlinear classification example\n",
    "X,y=make_moons(n_samples=100,noise=0.1)\n",
    "sb.scatterplot(X[:,0],X[:,1],hue=y)"
   ]
  },
  {
   "cell_type": "markdown",
   "metadata": {},
   "source": [
    "# Linear SVMs"
   ]
  },
  {
   "cell_type": "code",
   "execution_count": 3,
   "metadata": {},
   "outputs": [
    {
     "data": {
      "text/plain": [
       "SVC(C=0.1, break_ties=False, cache_size=200, class_weight=None, coef0=0.0,\n",
       "    decision_function_shape='ovr', degree=3, gamma='scale', kernel='linear',\n",
       "    max_iter=-1, probability=False, random_state=None, shrinking=True,\n",
       "    tol=0.001, verbose=False)"
      ]
     },
     "execution_count": 3,
     "metadata": {},
     "output_type": "execute_result"
    }
   ],
   "source": [
    "# make a linear SVM and fit it\n",
    "S = svm.SVC(C=0.1,kernel='linear')\n",
    "S.fit(X,y)"
   ]
  },
  {
   "cell_type": "code",
   "execution_count": 97,
   "metadata": {},
   "outputs": [],
   "source": [
    "# Get the training accuracy for the SVM\n"
   ]
  },
  {
   "cell_type": "code",
   "execution_count": 98,
   "metadata": {},
   "outputs": [],
   "source": [
    "# Visualize the decision function and support vectors \n",
    "def plotSVMfit(S,X,y):\n",
    "    \n",
    "    # Make a countour map of the decision function \n",
    "    # generate a meshgrid \n",
    "    numbins = 20\n",
    "    x1 = np.linspace(X[:,0].min(),X[:,0].max(), numbins)\n",
    "    x2 = np.linspace(X[:,1].min(),X[:,1].max(), numbins)\n",
    "    X1, X2 = np.meshgrid(x1, x2)\n",
    "\n",
    "    # Now get the decision function into the same format\n",
    "    XX=np.c_[X1.reshape(-1,1),X2.reshape(-1,1)]\n",
    "    YY=S.decision_function(XX)\n",
    "    Y = YY.reshape((numbins,numbins))\n",
    "    \n",
    "    # Determine the levels we want to plot + width of lines \n",
    "    ymax = np.abs(Y).max()\n",
    "    lev = np.linspace(-1,1,9)*ymax\n",
    "    levWidth = np.array([1,1,1,1,3,1,1,1,1])/2\n",
    "\n",
    "    # Figure out the suppport vectos \n",
    "    alpha = y*0\n",
    "    alpha[S.support_]=1 # np.abs(S.dual_coef_)\n",
    "    \n",
    "    sb.scatterplot(X[:,0],X[:,1],hue=y,size=alpha+1,legend=False)\n",
    "    plt.contour(X1,X2,Y,levels=lev,colors='black',linewidths=levWidth)\n"
   ]
  },
  {
   "cell_type": "code",
   "execution_count": 99,
   "metadata": {},
   "outputs": [],
   "source": [
    "# Do a stricter C \n"
   ]
  },
  {
   "cell_type": "code",
   "execution_count": 100,
   "metadata": {},
   "outputs": [],
   "source": [
    "# Do a more lenient C \n"
   ]
  },
  {
   "cell_type": "markdown",
   "metadata": {},
   "source": [
    "## Nonlinear Kernels"
   ]
  },
  {
   "cell_type": "code",
   "execution_count": null,
   "metadata": {},
   "outputs": [],
   "source": [
    "# Now let's try differnet nonlinear kernels \n",
    "# Play around widely with C + gamma \n",
    "# Gamma is 1/variance of the kernel\n",
    "# What Determines the \"smoothness\" of the decision boundary? \n"
   ]
  },
  {
   "cell_type": "code",
   "execution_count": 101,
   "metadata": {},
   "outputs": [],
   "source": [
    "# Polynomial kernel \n",
    "# degree = polynomial degree \n",
    "# coef0 = include constant term into the polynomial (all lower order terms)\n"
   ]
  },
  {
   "cell_type": "markdown",
   "metadata": {},
   "source": [
    "## Evaluation using crossvalidation "
   ]
  },
  {
   "cell_type": "code",
   "execution_count": null,
   "metadata": {},
   "outputs": [],
   "source": [
    "# Try out SVM in crossvalidated accuracy \n"
   ]
  },
  {
   "cell_type": "code",
   "execution_count": null,
   "metadata": {},
   "outputs": [],
   "source": [
    "# Make a harder data set \n",
    "X,y=make_moons(n_samples=100,noise=0.5)\n",
    "sb.scatterplot(X[:,0],X[:,1],hue=y)"
   ]
  },
  {
   "cell_type": "code",
   "execution_count": null,
   "metadata": {},
   "outputs": [],
   "source": [
    "# Now repeat the crossvalidated accuracy "
   ]
  },
  {
   "cell_type": "markdown",
   "metadata": {},
   "source": [
    "## Parameter tuning using gridsearch"
   ]
  },
  {
   "cell_type": "code",
   "execution_count": null,
   "metadata": {},
   "outputs": [],
   "source": [
    "# To fine the best gamma, we can do gridsearch on the training set - using crossvalidation \n"
   ]
  },
  {
   "cell_type": "markdown",
   "metadata": {},
   "source": [
    "## Unbalanced example "
   ]
  },
  {
   "cell_type": "code",
   "execution_count": null,
   "metadata": {},
   "outputs": [],
   "source": [
    "# Read the Example file \n",
    "D=pd.read_csv('example.csv')"
   ]
  },
  {
   "cell_type": "code",
   "execution_count": null,
   "metadata": {},
   "outputs": [],
   "source": [
    "# Put into numpy arrays and plot \n"
   ]
  },
  {
   "cell_type": "code",
   "execution_count": null,
   "metadata": {},
   "outputs": [],
   "source": [
    "# What type of SVM do we need to use to fit this? \n"
   ]
  },
  {
   "cell_type": "code",
   "execution_count": null,
   "metadata": {},
   "outputs": [],
   "source": [
    "#Now let's tune C to see where we get the best crossvalidated accuracy \n"
   ]
  },
  {
   "cell_type": "code",
   "execution_count": null,
   "metadata": {},
   "outputs": [],
   "source": [
    "#What about specificity and sensitivity? \n",
    "# In case your metric does not exist in sklearn\n",
    "# you can define it yourself \n"
   ]
  },
  {
   "cell_type": "code",
   "execution_count": null,
   "metadata": {},
   "outputs": [],
   "source": []
  },
  {
   "cell_type": "code",
   "execution_count": null,
   "metadata": {},
   "outputs": [],
   "source": []
  }
 ],
 "metadata": {
  "kernelspec": {
   "display_name": "Python 3",
   "language": "python",
   "name": "python3"
  },
  "language_info": {
   "codemirror_mode": {
    "name": "ipython",
    "version": 3
   },
   "file_extension": ".py",
   "mimetype": "text/x-python",
   "name": "python",
   "nbconvert_exporter": "python",
   "pygments_lexer": "ipython3",
   "version": "3.7.4"
  }
 },
 "nbformat": 4,
 "nbformat_minor": 2
}
