{
 "cells": [
  {
   "cell_type": "markdown",
   "metadata": {},
   "source": [
    "# Assignment 5: Regularized models\n",
    "\n",
    "### Instructions\n",
    "\n",
    "* Write your code in the cells provided.  Where appropirate, enter markdown to answer questions.\n",
    "* Delete your output before submitting and ensure that the code works when executed sequentially\n",
    "* Submit this notebook to OWL."
   ]
  },
  {
   "cell_type": "code",
   "execution_count": 1,
   "metadata": {},
   "outputs": [],
   "source": [
    "import pandas as pd\n",
    "import numpy as np\n",
    "import matplotlib.pyplot as plt\n",
    "import seaborn as sns\n",
    "from IPython.display import display\n",
    "import sklearn as sk \n",
    "from sklearn.model_selection import train_test_split, cross_val_score, GridSearchCV\n",
    "from sklearn.linear_model import Ridge\n",
    "from sklearn.pipeline import Pipeline\n",
    "from sklearn.preprocessing import StandardScaler, PolynomialFeatures\n",
    "from sklearn.metrics import mean_squared_error, mean_absolute_error, r2_score\n",
    "pd.set_option('display.max_columns', 500)\n",
    "\n",
    "%matplotlib inline"
   ]
  },
  {
   "cell_type": "markdown",
   "metadata": {},
   "source": [
    "# You're Still a Data Scientist!\n",
    "\n",
    "Your models from the last assignment really impressed some in the management in your football club. Now that you have learned the art of regularization, your boss thinks you should do equally well with much less data. This will safe a lot of money the next time around. This time you get only a data set with 3000 observations."
   ]
  },
  {
   "cell_type": "markdown",
   "metadata": {},
   "source": [
    "### Question1: Preprocessing (1pt)\n",
    "\n",
    "To get started repeat the preprocessing steps from last time: \n",
    "* Drop the variables: 'ID','club','club_logo','flag', 'nationality','photo','potential', 'birth_date'\n",
    "* Dummy code the variables: work_rate_att, work_rate_def, preferred_foot. **Because we are running a regularized model, we do not want to drop the first column**\n",
    "* Get a test data set of size 500 - to make results comparable to solutions, set random_state = 0\n",
    "\n",
    "To make sure that you get a good start - check the solutions from Assignment 4. And make sure you can apply these steps flexibly and quickly. **You will need it for the midterm!**"
   ]
  },
  {
   "cell_type": "code",
   "execution_count": 2,
   "metadata": {},
   "outputs": [
    {
     "name": "stdout",
     "output_type": "stream",
     "text": [
      "Training set size: (2500, 48)\n"
     ]
    }
   ],
   "source": [
    "df = pd.read_csv('footballer_small.csv').iloc[:,1:]\n",
    "\n",
    "# Drop the aformentioned columns\n",
    "model_data = df.drop(['ID','club','club_logo','flag', 'nationality','photo','potential', 'birth_date'], axis = 'columns')\n",
    "\n",
    "# In order to get dummies, convert categorical data to categorical type\n",
    "model_data['work_rate_att'] = pd.Categorical(model_data.work_rate_att, categories=['Low','Medium','High'])\n",
    "model_data['work_rate_def'] = pd.Categorical(model_data.work_rate_def, categories=['Low','Medium','High'])\n",
    "model_data['preferred_foot'] = pd.Categorical(model_data.preferred_foot, categories = ['Left','Right'])\n",
    "\n",
    "# Dummies, dropping the first category\n",
    "model_data = pd.get_dummies(model_data, drop_first=False)\n",
    "\n",
    "y = model_data.overall\n",
    "X = model_data.drop('overall', axis = 'columns')\n",
    "\n",
    "# Random state assures that folds are consistent across models\n",
    "Xtrain, Xtest, ytrain, ytest = train_test_split(X,\n",
    "                                                y, \n",
    "                                                test_size = 500, \n",
    "                                                random_state = 0)\n",
    "print('Training set size:',Xtrain.shape)\n",
    "\n"
   ]
  },
  {
   "cell_type": "markdown",
   "metadata": {},
   "source": [
    "### Question 2: Build a pipeline to preprocess the data (2pt)\n",
    "\n",
    "To run the regression model, we want to have a design matrix which houses standardized features (that is, subtracts their means and divides by their standard deviations) and no intercept.  \n",
    "\n",
    "The Senior Data Scientist has asked you to build a pipeline to perform these actions. In your model pipeline, set ride regression's penalization parameter to 0.5. Do so and then visualize the first 50 rows of your design matrix using `matplotlib.pyplot.imshow`."
   ]
  },
  {
   "cell_type": "code",
   "execution_count": 3,
   "metadata": {},
   "outputs": [
    {
     "data": {
      "text/plain": [
       "<matplotlib.image.AxesImage at 0x1a1ddd4310>"
      ]
     },
     "execution_count": 3,
     "metadata": {},
     "output_type": "execute_result"
    },
    {
     "data": {
      "image/png": "[encoded data removed]",
      "text/plain": [
       "<Figure size 432x288 with 1 Axes>"
      ]
     },
     "metadata": {
      "image/png": {
       "height": 249,
       "width": 242
      },
      "needs_background": "light"
     },
     "output_type": "display_data"
    }
   ],
   "source": [
    "# There are two ways to solve this assignment:\n",
    "# Using pipelines and performing the computations more or less manually\n",
    "# For didactic purposes, we will show you both\n",
    "\n",
    "scaler = StandardScaler()\n",
    "\n",
    "transformed_X = scaler.fit_transform(Xtrain)\n",
    "\n",
    "plt.imshow(transformed_X[:50,])"
   ]
  },
  {
   "cell_type": "code",
   "execution_count": 4,
   "metadata": {},
   "outputs": [
    {
     "data": {
      "text/plain": [
       "<matplotlib.colorbar.Colorbar at 0x1a1c567bd0>"
      ]
     },
     "execution_count": 4,
     "metadata": {},
     "output_type": "execute_result"
    },
    {
     "data": {
      "image/png": "[encoded data removed]",
      "text/plain": [
       "<Figure size 432x288 with 2 Axes>"
      ]
     },
     "metadata": {
      "image/png": {
       "height": 249,
       "width": 292
      },
      "needs_background": "light"
     },
     "output_type": "display_data"
    }
   ],
   "source": [
    "#Buid a pipeline to scale and then fit a Ridge regression\n",
    "model_pipeline = Pipeline([\n",
    "    ('standardize', StandardScaler()),\n",
    "    ('reg', Ridge(alpha=0.5, fit_intercept=True) )\n",
    "])\n",
    "\n",
    "\n",
    "standardizer_step = model_pipeline.named_steps['standardize']\n",
    "transformed_X = standardizer_step.fit_transform(Xtrain)\n",
    "\n",
    "plt.imshow(transformed_X[:50])\n",
    "plt.colorbar()"
   ]
  },
  {
   "cell_type": "markdown",
   "metadata": {},
   "source": [
    "### Question 3: Do ridge regression (2pt)\n",
    "Now use Ridge regression with a ridge parameter of 0.5 and report the Validation error on the training set. Use 10-fold cross-validation.  "
   ]
  },
  {
   "cell_type": "code",
   "execution_count": 5,
   "metadata": {},
   "outputs": [
    {
     "name": "stdout",
     "output_type": "stream",
     "text": [
      "5.914575436682226\n"
     ]
    }
   ],
   "source": [
    "#Manually\n",
    "ridge = Ridge(alpha=0.5)\n",
    "cv_scores = cross_val_score(ridge, \n",
    "                            transformed_X, \n",
    "                            ytrain,\n",
    "                            cv=10,\n",
    "                            scoring='neg_mean_squared_error')\n",
    "meancv=-cv_scores.mean()\n",
    "\n",
    "print(meancv) "
   ]
  },
  {
   "cell_type": "code",
   "execution_count": 6,
   "metadata": {},
   "outputs": [
    {
     "name": "stdout",
     "output_type": "stream",
     "text": [
      "5.914575367646265\n"
     ]
    }
   ],
   "source": [
    "#With Pipelines\n",
    "cv_scores = cross_val_score(model_pipeline, \n",
    "                            Xtrain, \n",
    "                            ytrain ,\n",
    "                            cv=10,\n",
    "                            scoring='neg_mean_squared_error')\n",
    "meancv=-cv_scores.mean()\n",
    "\n",
    "print(meancv) "
   ]
  },
  {
   "cell_type": "markdown",
   "metadata": {},
   "source": [
    "### Question 4: Test Error (3pt)\n",
    "Now test how the ridge model, fitted to the whole training set, on how it performs on the Test data set. Because you wrote a pipeline to perform the preprocessing steps, you shouldn't have to worry about preprocessing the test data.\n",
    "\n",
    "\n",
    "Report the mean squared error on the test data - along with the 95% confidencen interval, determined with the central limit theorem. What proportion of the variance in the test scores have you predicted (+ CI)? "
   ]
  },
  {
   "cell_type": "code",
   "execution_count": 7,
   "metadata": {},
   "outputs": [
    {
     "name": "stdout",
     "output_type": "stream",
     "text": [
      "Mean test error:  6.451153177980513\n",
      "95% CI:  [5.55134368 7.35096268]\n",
      "Proportion variance predicted:  0.8748311749551935\n",
      "95% CI:  [0.89228977 0.85737258]\n"
     ]
    }
   ],
   "source": [
    "#Manually\n",
    "\n",
    "ridge.fit(transformed_X, ytrain)\n",
    "\n",
    "transformed_test_X = scaler.transform(Xtest)\n",
    "ypred = ridge.predict(transformed_test_X)\n",
    "\n",
    "sqerr = (ytest-ypred)**2 \n",
    "test_error = sqerr.mean() \n",
    "test_ci = test_error + 1.96 * np.std(sqerr) / np.sqrt(len(sqerr)) * np.array([-1, 1])\n",
    "\n",
    "print(\"Mean test error: \",test_error)\n",
    "print(\"95% CI: \",test_ci)\n",
    "\n",
    "ss = (ytest-ytest.mean())**2 \n",
    "print(\"Proportion variance predicted: \",1-test_error/ss.mean())\n",
    "print(\"95% CI: \",1-test_ci/ss.mean())\n"
   ]
  },
  {
   "cell_type": "code",
   "execution_count": 8,
   "metadata": {},
   "outputs": [
    {
     "name": "stdout",
     "output_type": "stream",
     "text": [
      "Mean test error:  6.451153177980513\n",
      "95% CI:  [5.55134368 7.35096268]\n",
      "Proportion variance predicted:  0.8748311749551935\n",
      "95% CI:  [0.89228977 0.85737258]\n"
     ]
    }
   ],
   "source": [
    "model_pipeline.fit(Xtrain, ytrain)\n",
    "\n",
    "ypred = model_pipeline.predict(Xtest)\n",
    "\n",
    "sqerr = (ytest-ypred)**2 \n",
    "test_error = sqerr.mean() \n",
    "test_ci = test_error + 1.96 * np.std(sqerr) / np.sqrt(len(sqerr)) * np.array([-1, 1])\n",
    "\n",
    "print(\"Mean test error: \",test_error)\n",
    "print(\"95% CI: \",test_ci)\n",
    "\n",
    "ss = (ytest-ytest.mean())**2 \n",
    "print(\"Proportion variance predicted: \",1-test_error/ss.mean())\n",
    "print(\"95% CI: \",1-test_ci/ss.mean())\n"
   ]
  },
  {
   "cell_type": "markdown",
   "metadata": {},
   "source": [
    "### Question 5: Tune the ridge parameter (3pt)\n",
    "Now use 10-fold CV on the training set to determine a good setting for the regularization coefficient. Perform the search in log-space, going from $\\lambda = \\exp(-8), \\cdots, \\exp(6)$ in steps of 15. Plot the mean squared error as a function of $log(\\lambda)$. \n",
    "\n",
    "Written answer:  What does this tell you about regularization in this model? "
   ]
  },
  {
   "cell_type": "code",
   "execution_count": 9,
   "metadata": {},
   "outputs": [
    {
     "data": {
      "text/plain": [
       "Text(0.5, 0, '$\\\\log(\\\\lambda)$')"
      ]
     },
     "execution_count": 9,
     "metadata": {},
     "output_type": "execute_result"
    },
    {
     "data": {
      "image/png": "[encoded data removed]",
      "text/plain": [
       "<Figure size 432x288 with 1 Axes>"
      ]
     },
     "metadata": {
      "image/png": {
       "height": 264,
       "width": 372
      },
      "needs_background": "light"
     },
     "output_type": "display_data"
    }
   ],
   "source": [
    "#Manually\n",
    "\n",
    "alpha = np.exp(np.linspace(-8,6,15))\n",
    "\n",
    "scores = np.zeros_like(alpha)\n",
    "\n",
    "for i,a in enumerate(alpha):\n",
    "    ridge = Ridge(alpha=a)\n",
    "    cv_score = cross_val_score(ridge,transformed_X, ytrain, cv=10, scoring = 'neg_mean_squared_error')\n",
    "    scores[i] = -cv_score.mean()\n",
    "    \n",
    "plt.scatter(np.log(alpha), scores)\n",
    "plt.xlabel(r'$\\log(\\lambda)$')"
   ]
  },
  {
   "cell_type": "code",
   "execution_count": 10,
   "metadata": {},
   "outputs": [
    {
     "data": {
      "text/plain": [
       "Text(0.5, 0, '$\\\\log(\\\\lambda)$')"
      ]
     },
     "execution_count": 10,
     "metadata": {},
     "output_type": "execute_result"
    },
    {
     "data": {
      "image/png": "[encoded data removed]",
      "text/plain": [
       "<Figure size 432x288 with 1 Axes>"
      ]
     },
     "metadata": {
      "image/png": {
       "height": 264,
       "width": 372
      },
      "needs_background": "light"
     },
     "output_type": "display_data"
    }
   ],
   "source": [
    "#With Pipelines\n",
    "params = {'reg__alpha': np.exp(np.linspace(-8,6,15))}\n",
    "gscv = GridSearchCV(model_pipeline, param_grid=params, cv=10, scoring = 'neg_mean_squared_error')\n",
    "gscv.fit(Xtrain, ytrain)\n",
    "\n",
    "results = pd.DataFrame(gscv.cv_results_)\n",
    "\n",
    "plt.scatter( np.linspace(-8, 6,15), -results.mean_test_score)\n",
    "plt.xlabel(r'$\\log(\\lambda)$')"
   ]
  },
  {
   "cell_type": "markdown",
   "metadata": {},
   "source": [
    "Even give the reduced  amount of data, the model with 45 features is realtively simple. So, regularization does not reduce the variability of the model appreciably. So most of the error is bias."
   ]
  },
  {
   "cell_type": "markdown",
   "metadata": {},
   "source": [
    "### Question 6: Ridge regression with a more complex model - containing all 2-nd order interactions (2pt)\n",
    "Give how well the model with all quadratic interactions worked the last time, your boss now wants to see if you can fit this model with all quadratic interaction terms to the data. \n",
    "Build a design matrix with all quadratic terms and 2-way interactions and then standardize them.  You can very easily do this by altering your pipeline.\n",
    "\n",
    "Check how many regressors you have. Explain why you have this many terms. "
   ]
  },
  {
   "cell_type": "code",
   "execution_count": 11,
   "metadata": {},
   "outputs": [
    {
     "data": {
      "text/plain": [
       "(2500, 1224)"
      ]
     },
     "execution_count": 11,
     "metadata": {},
     "output_type": "execute_result"
    }
   ],
   "source": [
    "#Manually\n",
    "\n",
    "scaler = StandardScaler()\n",
    "\n",
    "poly_X = poly.fit_transform(Xtrain)\n",
    "transformed_poly_X = scaler.fit_transform(poly_X)\n",
    "\n",
    "transformed_poly_X.shape"
   ]
  },
  {
   "cell_type": "code",
   "execution_count": 12,
   "metadata": {},
   "outputs": [],
   "source": [
    "#With pipelines\n",
    "poly_model_pipeline = Pipeline([\n",
    "    ('poly', PolynomialFeatures(degree=2, include_bias=False)),\n",
    "    ('standardize', StandardScaler()),\n",
    "    ('reg', Ridge(alpha=0.5)) ])\n",
    "\n",
    "\n"
   ]
  },
  {
   "cell_type": "markdown",
   "metadata": {},
   "source": [
    "There are 49 columns in our design matrix.\n",
    "\n",
    "Setting `degree=2` and `interactions_only=False` computes $x_i\\cdot x_j$ for all $i,j=1, \\cdots, 49$ and then adds this to our original design matrix. Note that when $i\\neq j$, the ordering of the terms does not matter. This is a total of (49)(48)/2 + 49 + 49 = 1274 features.\n",
    "\n",
    "If you are interested in knowing how I computed this, read the wikipedia page for \"Triangular Number\"."
   ]
  },
  {
   "cell_type": "code",
   "execution_count": 13,
   "metadata": {},
   "outputs": [
    {
     "data": {
      "text/plain": [
       "(2500, 1224)"
      ]
     },
     "execution_count": 13,
     "metadata": {},
     "output_type": "execute_result"
    }
   ],
   "source": [
    "poly_model_pipeline.named_steps['poly'].fit_transform(Xtrain).shape"
   ]
  },
  {
   "cell_type": "markdown",
   "metadata": {},
   "source": [
    "### Question 7: Tune the Ridge coefficient for the 2nd-order model   (3pt)\n",
    "Now use 10-fold CV on the training set to determine a good setting for the regularization coefficient. Perform the search in log-space, going from $\\lambda = \\exp(-8), \\cdots, \\exp(3)$ in steps of 15. Plot the mean squared error as a function of $log(\\lambda)$. \n",
    "\n",
    "Written answer: What does the shape of the curve (as compared to the answer to Question 5) tell you about this model? What is the best regularization? "
   ]
  },
  {
   "cell_type": "code",
   "execution_count": 14,
   "metadata": {},
   "outputs": [
    {
     "data": {
      "text/plain": [
       "Text(0.5, 0, '$\\\\log(\\\\lambda)$')"
      ]
     },
     "execution_count": 14,
     "metadata": {},
     "output_type": "execute_result"
    },
    {
     "data": {
      "image/png": "[encoded data removed]",
      "text/plain": [
       "<Figure size 432x288 with 1 Axes>"
      ]
     },
     "metadata": {
      "image/png": {
       "height": 263,
       "width": 372
      },
      "needs_background": "light"
     },
     "output_type": "display_data"
    }
   ],
   "source": [
    "#Manually\n",
    "\n",
    "for i,a in enumerate(alpha):\n",
    "    ridge = Ridge(alpha=a)\n",
    "    cv_score = cross_val_score(ridge,transformed_poly_X, ytrain, cv=10, scoring = 'neg_mean_squared_error')\n",
    "    scores[i] = -cv_score.mean()\n",
    "    \n",
    "plt.scatter(np.log(alpha), scores)\n",
    "plt.xlabel(r'$\\log(\\lambda)$')"
   ]
  },
  {
   "cell_type": "code",
   "execution_count": 16,
   "metadata": {},
   "outputs": [
    {
     "data": {
      "text/plain": [
       "Text(0.5, 0, '$\\\\log(\\\\lambda)$')"
      ]
     },
     "execution_count": 16,
     "metadata": {},
     "output_type": "execute_result"
    },
    {
     "data": {
      "image/png": "[encoded data removed]",
      "text/plain": [
       "<Figure size 432x288 with 1 Axes>"
      ]
     },
     "metadata": {
      "image/png": {
       "height": 263,
       "width": 372
      },
      "needs_background": "light"
     },
     "output_type": "display_data"
    }
   ],
   "source": [
    "#With Pipelines\n",
    "params = {'reg__alpha': np.exp(np.linspace(-8,6,15))}\n",
    "gscv = GridSearchCV(poly_model_pipeline, param_grid=params, cv=10, scoring = 'neg_mean_squared_error', refit=True)\n",
    "gscv.fit(Xtrain, ytrain)\n",
    "\n",
    "results = pd.DataFrame(gscv.cv_results_)\n",
    "\n",
    "plt.scatter( np.linspace(-8, 6,15), -results.mean_test_score)\n",
    "plt.xlabel(r'$\\log(\\lambda)$')"
   ]
  },
  {
   "cell_type": "markdown",
   "metadata": {},
   "source": [
    "Now the model is best with much more regularization -as compared to question 5. That means that most of the CV error comes from variance, rather than bias. The best lambda can be found using `gscv.best_params_`. "
   ]
  },
  {
   "cell_type": "markdown",
   "metadata": {},
   "source": [
    "### Question 8: Test error  (2pt)\n",
    "Report proportion of variance predicted + the 95% confidence for the 2nd-order model with the best regularization parameter, when you fit it on the entire training set. \n",
    "\n",
    "\n"
   ]
  },
  {
   "cell_type": "code",
   "execution_count": 17,
   "metadata": {},
   "outputs": [
    {
     "name": "stdout",
     "output_type": "stream",
     "text": [
      "Mean variance predicted:  0.966904212584222\n",
      "95% CI:  [0.98752421 0.97495498]\n",
      "Proportion variance predicted:  0.9812395922277686\n"
     ]
    }
   ],
   "source": [
    "# Manually\n",
    "poly_Xtest = poly.transform(Xtest)\n",
    "poly_transformed_Xtest = scaler.transform(poly_Xtest)\n",
    "\n",
    "#Set alpha equal to the parameter which minimized cv score\n",
    "ridge = Ridge(alpha=alpha[np.argmin(scores)])\n",
    "ridge.fit(transformed_poly_X, ytrain)\n",
    "\n",
    "\n",
    "yp = ridge.predict(poly_transformed_Xtest)\n",
    "\n",
    "sqerr = (ytest-yp)**2 \n",
    "ss = (ytest-ytest.mean())**2 \n",
    "test_error = 1-sqerr.mean()/ss.mean() \n",
    "test_ci = test_error + 1.96 * np.std(sqerr) / np.sqrt(len(sqerr)) * np.array([-1, 1])\n",
    "test_ci = 1-test_ci/ss.mean()\n",
    "print(\"Mean variance predicted: \",test_error)\n",
    "print(\"95% CI: \",test_ci)\n",
    "\n",
    "\n",
    "print(\"Proportion variance predicted: \",1-test_error/ss.mean())\n",
    "\n"
   ]
  },
  {
   "cell_type": "code",
   "execution_count": 18,
   "metadata": {},
   "outputs": [
    {
     "name": "stdout",
     "output_type": "stream",
     "text": [
      "Mean variance predicted:  0.966904212584222\n",
      "95% CI:  [0.98752421 0.97495498]\n",
      "Proportion variance predicted:  0.9812395922277686\n"
     ]
    }
   ],
   "source": [
    "# With Pipelines\n",
    "yp = gscv.predict(Xtest)\n",
    "\n",
    "sqerr = (ytest-yp)**2 \n",
    "ss = (ytest-ytest.mean())**2 \n",
    "test_error = 1-sqerr.mean()/ss.mean() \n",
    "test_ci = test_error + 1.96 * np.std(sqerr) / np.sqrt(len(sqerr)) * np.array([-1, 1])\n",
    "test_ci = 1-test_ci/ss.mean()\n",
    "print(\"Mean variance predicted: \",test_error)\n",
    "print(\"95% CI: \",test_ci)\n",
    "\n",
    "\n",
    "print(\"Proportion variance predicted: \",1-test_error/ss.mean())\n",
    "\n"
   ]
  },
  {
   "cell_type": "markdown",
   "metadata": {},
   "source": [
    "### Question 9: Fine-tuning (2 pt)\n",
    "That's pretty impressive! \n",
    "\n",
    "Now, your boss thinks that you could slightly improve your test error by fine-tuning your ridge parameter on the test set for the full model fit. Your boss instructs you to combine the training and test sets, refit the model, and then re-test on the test set.\n",
    "\n",
    "Would you predict that a smaller or bigger regularization factor would do better? What do you think of this procedure? Is this a reliable procedure for assessing model fit?  Answer in no more than 5 sentences."
   ]
  },
  {
   "cell_type": "markdown",
   "metadata": {},
   "source": [
    "The average size of the regularization parameter should not change, as the optimal parameter is just the variance of the noise / variance of the true effects. More data just leads to the regularization having less of an impact. However, given the particulars of the test set, a different ridge parameter maybe better for the test set. However, determining that optimal parameter on the test set would be a **bad** idea, as we would now systematically underestimate our generalization error.   "
   ]
  },
  {
   "cell_type": "code",
   "execution_count": null,
   "metadata": {},
   "outputs": [],
   "source": []
  },
  {
   "cell_type": "code",
   "execution_count": null,
   "metadata": {},
   "outputs": [],
   "source": []
  }
 ],
 "metadata": {
  "kernelspec": {
   "display_name": "Python 3",
   "language": "python",
   "name": "python3"
  },
  "language_info": {
   "codemirror_mode": {
    "name": "ipython",
    "version": 3
   },
   "file_extension": ".py",
   "mimetype": "text/x-python",
   "name": "python",
   "nbconvert_exporter": "python",
   "pygments_lexer": "ipython3",
   "version": "3.7.1"
  }
 },
 "nbformat": 4,
 "nbformat_minor": 4
}
