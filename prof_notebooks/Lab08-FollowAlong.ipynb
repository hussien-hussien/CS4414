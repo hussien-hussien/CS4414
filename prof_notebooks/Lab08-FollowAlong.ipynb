{
 "cells": [
  {
   "cell_type": "code",
   "execution_count": null,
   "metadata": {},
   "outputs": [],
   "source": [
    "import pandas as pd\n",
    "import numpy as np\n",
    "from sklearn.model_selection import train_test_split, cross_val_score, GridSearchCV\n",
    "from sklearn.pipeline import Pipeline\n",
    "from sklearn.linear_model import LogisticRegression\n",
    "from sklearn.metrics import recall_score, make_scorer, confusion_matrix, roc_curve, auc\n",
    "from sklearn.utils.multiclass import unique_labels\n",
    "from sklearn.preprocessing import StandardScaler\n",
    "from statsmodels.stats.proportion import proportion_confint\n",
    "\n",
    "import seaborn as sns\n",
    "\n",
    "import matplotlib.pyplot as plt\n",
    "%matplotlib inline\n",
    "\n",
    "emails = pd.read_table(\"email.txt\").drop('time',axis='columns')\n",
    "emails = pd.get_dummies(emails,drop_first=True)\n",
    "emails.head()"
   ]
  },
  {
   "cell_type": "code",
   "execution_count": null,
   "metadata": {},
   "outputs": [],
   "source": [
    "# Check out class distribution\n"
   ]
  },
  {
   "cell_type": "code",
   "execution_count": null,
   "metadata": {},
   "outputs": [],
   "source": [
    "# How many positive class?\n"
   ]
  },
  {
   "cell_type": "code",
   "execution_count": null,
   "metadata": {},
   "outputs": [],
   "source": [
    "#Baseline accuracy?\n"
   ]
  },
  {
   "cell_type": "code",
   "execution_count": null,
   "metadata": {},
   "outputs": [],
   "source": [
    "# Split data, train logistic regression\n"
   ]
  },
  {
   "cell_type": "code",
   "execution_count": null,
   "metadata": {},
   "outputs": [],
   "source": [
    "# Predict on test, check distribution of hard predicted values \n"
   ]
  },
  {
   "cell_type": "code",
   "execution_count": null,
   "metadata": {},
   "outputs": [],
   "source": [
    "# Check distribution of predicted probabilities \n"
   ]
  },
  {
   "cell_type": "code",
   "execution_count": null,
   "metadata": {},
   "outputs": [],
   "source": [
    "# Calculate performance measures from scratch\n",
    "# TP: true postives \n",
    "# TN: true negatives \n",
    "# FP: False positives \n",
    "# FN: False negatives\n",
    "def compute_performance(yhat, y):\n",
    "    # First, get tp, tn, fp, fn\n",
    "\n",
    "    print(f\"tp: {tp} tn: {tn} fp: {fp} fn: {fn}\")\n",
    "    \n",
    "    # Accuracy\n",
    "    \n",
    "    # Recall\n",
    "    # \"Of all the + in the data, how many do I correctly label?\"\n",
    "    \n",
    "    # Precision\n",
    "    # \"Of the ones I labeled +, how many are actually +?\"\n",
    "    \n",
    "    # Sensitivity\n",
    "    # \"Of all the + in the data, how many do I correctly label?\"\n",
    "    \n",
    "    # Specificity\n",
    "    # \"Of all the - in the data, how many do I correctly label?\"\n",
    "    \n",
    "    # Print results\n",
    "    \n",
    "    print(\"Acc:\",round(trainacc,3),\"Rec:\",round(recall,3),\"Prec:\",round(precision,3),\n",
    "          \"Sens:\",round(sensitivity,3),\"Spec:\",round(specificity,3))\n",
    "    \n",
    "    # Print CI for accuracy\n",
    "    # We can use statsmodel's proportion_confint that uses a normal approximation \n",
    "    # to th binomial distribution \n",
    "    # proportion_confint(count, nobs, alpha=0.05, method='normal')\n",
    "\n"
   ]
  },
  {
   "cell_type": "code",
   "execution_count": null,
   "metadata": {},
   "outputs": [],
   "source": [
    "# Now let's experiment by adjusting the decision threshold \n"
   ]
  },
  {
   "cell_type": "code",
   "execution_count": null,
   "metadata": {},
   "outputs": [],
   "source": [
    "# ROC using sklearns ROC curve. \n"
   ]
  },
  {
   "cell_type": "code",
   "execution_count": null,
   "metadata": {},
   "outputs": [],
   "source": [
    "#AUROC\n"
   ]
  },
  {
   "cell_type": "code",
   "execution_count": null,
   "metadata": {},
   "outputs": [],
   "source": [
    "# Confidence interval for AUROC\n",
    "\n",
    "def auroc_ci(data, model, numboot=1000):\n",
    "    b_auroc = np.zeros(numboot)\n",
    "    for i in range(numboot):\n",
    "        df_bootstrapped = data.sample(data.shape[0], replace = True)\n",
    "        y = df_bootstrapped.spam\n",
    "        yhat = model.predict_proba(df_bootstrapped.drop('spam',axis='columns'))[:,1]\n",
    "        fpr, tpr, _ = roc_curve(y, yhat)\n",
    "        b_auroc[i] = auc(fpr,tpr)\n",
    "    return np.quantile(b_auroc,(0.025,0.975))\n",
    "    \n",
    "print(auroc_ci(emails_test, lr))"
   ]
  }
 ],
 "metadata": {
  "kernelspec": {
   "display_name": "Python 3",
   "language": "python",
   "name": "python3"
  },
  "language_info": {
   "codemirror_mode": {
    "name": "ipython",
    "version": 3
   },
   "file_extension": ".py",
   "mimetype": "text/x-python",
   "name": "python",
   "nbconvert_exporter": "python",
   "pygments_lexer": "ipython3",
   "version": "3.7.4"
  }
 },
 "nbformat": 4,
 "nbformat_minor": 2
}
