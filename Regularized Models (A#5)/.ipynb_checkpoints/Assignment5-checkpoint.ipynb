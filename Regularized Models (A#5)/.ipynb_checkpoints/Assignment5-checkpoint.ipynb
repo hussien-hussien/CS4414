{
 "cells": [
  {
   "cell_type": "markdown",
   "metadata": {},
   "source": [
    "# Assignment 5: Regularized Models\n",
    "\n",
    "# /20 Marks\n",
    "\n",
    "### Instructions\n",
    "\n",
    "* Write your code in the cells provided.  Where appropirate, enter markdown to answer questions.\n",
    "* Delete your output before submitting and ensure that the code works when executed sequentially\n",
    "* Submit this notebook to OWL."
   ]
  },
  {
   "cell_type": "code",
   "execution_count": 3,
   "metadata": {},
   "outputs": [],
   "source": [
    "import pandas as pd\n",
    "import numpy as np\n",
    "import matplotlib.pyplot as plt\n",
    "import seaborn as sns\n",
    "from IPython.display import display\n",
    "from sklearn.model_selection import train_test_split, cross_val_score, GridSearchCV\n",
    "from sklearn.linear_model import Ridge\n",
    "from sklearn.pipeline import Pipeline\n",
    "from sklearn.preprocessing import StandardScaler, PolynomialFeatures\n",
    "from sklearn.metrics import mean_squared_error, mean_absolute_error, r2_score, make_scorer, explained_variance_score\n",
    "from scipy.stats import t, sem\n",
    "pd.set_option('display.max_columns', 500)\n",
    "\n",
    "import warnings\n",
    "warnings.simplefilter(action='ignore')\n",
    "\n",
    "%matplotlib inline"
   ]
  },
  {
   "cell_type": "markdown",
   "metadata": {},
   "source": [
    "# You're Still a Data Scientist!\n",
    "\n",
    "Your models from the last assignment really impressed some in the management in your football club. Now that you have learned the art of regularization, your boss thinks you should do equally well with much less data. This will safe a lot of money the next time around. This time you get only a data set with 3000 observations.\n",
    "\n",
    "This assignment can be done in a straightforward fashion by using sklearn model pipelines.  I suggest you read the documentation found below:\n",
    "\n",
    "[Pipeline Documentation](https://scikit-learn.org/stable/modules/generated/sklearn.pipeline.Pipeline.html)\n",
    "\n",
    "[Pipeline Blog Post](https://towardsdatascience.com/a-simple-example-of-pipeline-in-machine-learning-with-scikit-learn-e726ffbb6976)\n",
    "\n",
    "[GridSearh Documentation](https://scikit-learn.org/stable/modules/generated/sklearn.model_selection.GridSearchCV.html)."
   ]
  },
  {
   "cell_type": "markdown",
   "metadata": {},
   "source": [
    "### Question1: Preprocessing (1pt)\n",
    "\n",
    "To get started repeat the preprocessing steps from last time: \n",
    "* Drop the variables: 'ID','club','club_logo','flag', 'nationality','photo','potential', 'birth_date'\n",
    "* Dummy code the variables: work_rate_att, work_rate_def, preferred_foot. **Because we are running a regularized model, we do not want to drop the first column**\n",
    "* Get a test data set of size 500 - to make results comparable to solutions, set random_state = 0\n",
    "\n",
    "To make sure that you get a good start - check the solutions from Assignment 4. And make sure you can apply these steps flexibly and quickly. **You will need it for the midterm!**"
   ]
  },
  {
   "cell_type": "code",
   "execution_count": 4,
   "metadata": {},
   "outputs": [
    {
     "data": {
      "text/plain": [
       "(2500, 50)"
      ]
     },
     "execution_count": 4,
     "metadata": {},
     "output_type": "execute_result"
    }
   ],
   "source": [
    "df = pd.read_csv('footballer_small.csv')\n",
    "\n",
    "# Drop the aformentioned columns\n",
    "model_data = df.drop(['ID','club','club_logo','flag', 'nationality','photo','potential', 'birth_date'], axis = 'columns')\n",
    "\n",
    "# In order to get dummies, convert categorical data to categorical type\n",
    "model_data['work_rate_att'] = pd.Categorical(model_data.work_rate_att, categories=['Low','Medium','High'])\n",
    "model_data['work_rate_def'] = pd.Categorical(model_data.work_rate_def, categories=['Low','Medium','High'])\n",
    "model_data['preferred_foot'] = pd.Categorical(model_data.preferred_foot, categories = ['Left','Right'])\n",
    "\n",
    "# Dummies, dropping the first category\n",
    "# Because we are running a regularized model, we do not want to drop the first column. drop_first=False\n",
    "# In other cases like \n",
    "model_data = pd.get_dummies(model_data, drop_first=False)\n",
    "model_data_last = model_data\n",
    "\n",
    "# Get random Sample\n",
    "test=model_data.sample(n=500,random_state=0)\n",
    "model_data = pd.concat([test, model_data]).drop_duplicates(keep=False)\n",
    "model_data.shape"
   ]
  },
  {
   "cell_type": "markdown",
   "metadata": {},
   "source": [
    "### Question 2: Build a pipeline to preprocess the data (2pt)\n",
    "\n",
    "To run the regression model, we want to have a design matrix which houses standardized features (that is, subtracts their means and divides by their standard deviations) and no intercept.  \n",
    "\n",
    "The Senior Data Scientist has asked you to build a pipeline to perform these actions. In your model pipeline, set ride regression's penalization parameter to 0.5. Do so and then visualize the first 50 rows of your design matrix using `matplotlib.pyplot.imshow`."
   ]
  },
  {
   "cell_type": "code",
   "execution_count": 5,
   "metadata": {},
   "outputs": [
    {
     "data": {
      "image/png": "[encoded data removed]",
      "text/plain": [
       "<Figure size 432x288 with 1 Axes>"
      ]
     },
     "metadata": {
      "needs_background": "light"
     },
     "output_type": "display_data"
    }
   ],
   "source": [
    "y = model_data.overall\n",
    "X = model_data.drop('overall', axis = 'columns')\n",
    "#X_train, X_test, y_train, y_test = train_test_split(X,y, test_size=0.25)\n",
    "\n",
    "## I have an error with my version on sklearn where I cannot call sub-pipelines\n",
    "\n",
    "model_pipeline = Pipeline([\n",
    "    ('standardize', StandardScaler()),\n",
    "#    ('Ridge Regression', Ridge(alpha=0.5,fit_intercept=False))   \n",
    "])\n",
    "\n",
    "X_ss = model_pipeline.fit_transform(X=X)\n",
    "\n",
    "plt.imshow(X_ss[0:50], shape=(10,10))\n",
    "plt.show()"
   ]
  },
  {
   "cell_type": "code",
   "execution_count": null,
   "metadata": {},
   "outputs": [],
   "source": []
  },
  {
   "cell_type": "markdown",
   "metadata": {},
   "source": [
    "### Question 3: Do ridge regression (2pt)\n",
    "Now use Ridge regression with a ridge parameter of 0.5 and report the Validation error on the training set. Use 10-fold cross-validation.  "
   ]
  },
  {
   "cell_type": "code",
   "execution_count": 6,
   "metadata": {},
   "outputs": [
    {
     "name": "stdout",
     "output_type": "stream",
     "text": [
      "CV error: 1.5580141984902511\n"
     ]
    }
   ],
   "source": [
    "model_pipeline_2 = Pipeline([\n",
    "    ('standardize', StandardScaler()),\n",
    "    ('Ridge', Ridge(alpha=0.5,fit_intercept=True))   \n",
    "])\n",
    "\n",
    "cv_scores = cross_val_score(model_pipeline_2, \n",
    "                           X, \n",
    "                           y, \n",
    "                           cv = 10, \n",
    "                           scoring = 'neg_mean_squared_error')\n",
    "\n",
    "print(f\"CV error: {-cv_scores.mean()}\")"
   ]
  },
  {
   "cell_type": "markdown",
   "metadata": {},
   "source": [
    "### Question 4: Test Error (3pt)\n",
    "Now test how the ridge model, fitted to the whole training set, on how it performs on the Test data set. Because you wrote a pipeline to perform the preprocessing steps, you shouldn't have to worry about preprocessing the test data.\n",
    "\n",
    "\n",
    "Report the mean squared error on the test data - along with the 95% confidencen interval, determined with the central limit theorem. What proportion of the variance in the test scores have you predicted (+ CI)? "
   ]
  },
  {
   "cell_type": "code",
   "execution_count": 7,
   "metadata": {},
   "outputs": [
    {
     "ename": "ValueError",
     "evalue": "Found input variables with inconsistent numbers of samples: [2500, 500]",
     "output_type": "error",
     "traceback": [
      "\u001b[0;31m---------------------------------------------------------------------------\u001b[0m",
      "\u001b[0;31mValueError\u001b[0m                                Traceback (most recent call last)",
      "\u001b[0;32m<ipython-input-7-7fd571e47503>\u001b[0m in \u001b[0;36m<module>\u001b[0;34m()\u001b[0m\n\u001b[1;32m     21\u001b[0m \u001b[0mmse_4\u001b[0m\u001b[0;34m,\u001b[0m \u001b[0mbounds\u001b[0m \u001b[0;34m=\u001b[0m \u001b[0mconfidence_interval\u001b[0m\u001b[0;34m(\u001b[0m\u001b[0;34m(\u001b[0m\u001b[0my_pred\u001b[0m \u001b[0;34m-\u001b[0m \u001b[0mtest\u001b[0m\u001b[0;34m[\u001b[0m\u001b[0;34m'overall'\u001b[0m\u001b[0;34m]\u001b[0m\u001b[0;34m)\u001b[0m\u001b[0;34m**\u001b[0m\u001b[0;36m2\u001b[0m\u001b[0;34m)\u001b[0m\u001b[0;34m\u001b[0m\u001b[0;34m\u001b[0m\u001b[0m\n\u001b[1;32m     22\u001b[0m \u001b[0;34m\u001b[0m\u001b[0m\n\u001b[0;32m---> 23\u001b[0;31m \u001b[0mprint\u001b[0m\u001b[0;34m(\u001b[0m\u001b[0;34m\"Explained Variance Score: \"\u001b[0m\u001b[0;34m,\u001b[0m\u001b[0mexplained_variance_score\u001b[0m\u001b[0;34m(\u001b[0m\u001b[0my\u001b[0m\u001b[0;34m,\u001b[0m\u001b[0my_pred\u001b[0m\u001b[0;34m)\u001b[0m\u001b[0;34m)\u001b[0m\u001b[0;34m\u001b[0m\u001b[0;34m\u001b[0m\u001b[0m\n\u001b[0m\u001b[1;32m     24\u001b[0m \u001b[0;34m\u001b[0m\u001b[0m\n\u001b[1;32m     25\u001b[0m \u001b[0;34m\u001b[0m\u001b[0m\n",
      "\u001b[0;32m/anaconda3/lib/python3.7/site-packages/sklearn/metrics/regression.py\u001b[0m in \u001b[0;36mexplained_variance_score\u001b[0;34m(y_true, y_pred, sample_weight, multioutput)\u001b[0m\n\u001b[1;32m    412\u001b[0m     \"\"\"\n\u001b[1;32m    413\u001b[0m     y_type, y_true, y_pred, multioutput = _check_reg_targets(\n\u001b[0;32m--> 414\u001b[0;31m         y_true, y_pred, multioutput)\n\u001b[0m\u001b[1;32m    415\u001b[0m     \u001b[0mcheck_consistent_length\u001b[0m\u001b[0;34m(\u001b[0m\u001b[0my_true\u001b[0m\u001b[0;34m,\u001b[0m \u001b[0my_pred\u001b[0m\u001b[0;34m,\u001b[0m \u001b[0msample_weight\u001b[0m\u001b[0;34m)\u001b[0m\u001b[0;34m\u001b[0m\u001b[0;34m\u001b[0m\u001b[0m\n\u001b[1;32m    416\u001b[0m \u001b[0;34m\u001b[0m\u001b[0m\n",
      "\u001b[0;32m/anaconda3/lib/python3.7/site-packages/sklearn/metrics/regression.py\u001b[0m in \u001b[0;36m_check_reg_targets\u001b[0;34m(y_true, y_pred, multioutput)\u001b[0m\n\u001b[1;32m     73\u001b[0m \u001b[0;34m\u001b[0m\u001b[0m\n\u001b[1;32m     74\u001b[0m     \"\"\"\n\u001b[0;32m---> 75\u001b[0;31m     \u001b[0mcheck_consistent_length\u001b[0m\u001b[0;34m(\u001b[0m\u001b[0my_true\u001b[0m\u001b[0;34m,\u001b[0m \u001b[0my_pred\u001b[0m\u001b[0;34m)\u001b[0m\u001b[0;34m\u001b[0m\u001b[0;34m\u001b[0m\u001b[0m\n\u001b[0m\u001b[1;32m     76\u001b[0m     \u001b[0my_true\u001b[0m \u001b[0;34m=\u001b[0m \u001b[0mcheck_array\u001b[0m\u001b[0;34m(\u001b[0m\u001b[0my_true\u001b[0m\u001b[0;34m,\u001b[0m \u001b[0mensure_2d\u001b[0m\u001b[0;34m=\u001b[0m\u001b[0;32mFalse\u001b[0m\u001b[0;34m)\u001b[0m\u001b[0;34m\u001b[0m\u001b[0;34m\u001b[0m\u001b[0m\n\u001b[1;32m     77\u001b[0m     \u001b[0my_pred\u001b[0m \u001b[0;34m=\u001b[0m \u001b[0mcheck_array\u001b[0m\u001b[0;34m(\u001b[0m\u001b[0my_pred\u001b[0m\u001b[0;34m,\u001b[0m \u001b[0mensure_2d\u001b[0m\u001b[0;34m=\u001b[0m\u001b[0;32mFalse\u001b[0m\u001b[0;34m)\u001b[0m\u001b[0;34m\u001b[0m\u001b[0;34m\u001b[0m\u001b[0m\n",
      "\u001b[0;32m/anaconda3/lib/python3.7/site-packages/sklearn/utils/validation.py\u001b[0m in \u001b[0;36mcheck_consistent_length\u001b[0;34m(*arrays)\u001b[0m\n\u001b[1;32m    233\u001b[0m     \u001b[0;32mif\u001b[0m \u001b[0mlen\u001b[0m\u001b[0;34m(\u001b[0m\u001b[0muniques\u001b[0m\u001b[0;34m)\u001b[0m \u001b[0;34m>\u001b[0m \u001b[0;36m1\u001b[0m\u001b[0;34m:\u001b[0m\u001b[0;34m\u001b[0m\u001b[0;34m\u001b[0m\u001b[0m\n\u001b[1;32m    234\u001b[0m         raise ValueError(\"Found input variables with inconsistent numbers of\"\n\u001b[0;32m--> 235\u001b[0;31m                          \" samples: %r\" % [int(l) for l in lengths])\n\u001b[0m\u001b[1;32m    236\u001b[0m \u001b[0;34m\u001b[0m\u001b[0m\n\u001b[1;32m    237\u001b[0m \u001b[0;34m\u001b[0m\u001b[0m\n",
      "\u001b[0;31mValueError\u001b[0m: Found input variables with inconsistent numbers of samples: [2500, 500]"
     ]
    }
   ],
   "source": [
    "def confidence_interval(data):\n",
    "\n",
    "    n = data.size\n",
    "    t_quantile = t.ppf(1-0.05/2, df=n-1)\n",
    "    estimated_mean = data.mean()\n",
    "    # Note, np.std divides by n and not n-1\n",
    "    # Force it to apply the correct formula by ussing ddof=1\n",
    "    # Alternaively, you can use scipy.stats.sem to compute\n",
    "    #The standard error\n",
    "    estimated_se = data.std(ddof=1)/np.sqrt(data.size)\n",
    "    bounds = estimated_mean + t_quantile*estimated_se*np.array([-1,1])\n",
    "\n",
    "    \n",
    "    return estimated_mean, bounds\n",
    "\n",
    "model_4 = model_pipeline_2.fit(X,y)\n",
    "\n",
    "y_pred = model_4.predict(test.drop('overall', axis = 'columns'))\n",
    "\n",
    "\n",
    "mse_4, bounds = confidence_interval((y_pred - test['overall'])**2)\n",
    "\n",
    "\n",
    "print(mse_4)\n",
    "print(bounds)"
   ]
  },
  {
   "cell_type": "markdown",
   "metadata": {},
   "source": [
    "### Question 5: Tune the ridge parameter (3pt)\n",
    "Now use 10-fold CV on the training set to determine a good setting for the regularization coefficient. Perform the search in log-space, going from $\\lambda = \\exp(-8), \\cdots, \\exp(3)$ in steps of 15. Plot the mean squared error as a function of $log(\\lambda)$. \n",
    "\n",
    "Written answer:  What does this tell you about regularization in this model?\n",
    "It looks like the optimal regularization coefficient is between exp(2)-exp(4).  "
   ]
  },
  {
   "cell_type": "code",
   "execution_count": 8,
   "metadata": {},
   "outputs": [
    {
     "name": "stdout",
     "output_type": "stream",
     "text": [
      "[1.55839516 1.5583947  1.55839343 1.55838998 1.55838063 1.55835535\n",
      " 1.5582876  1.55811045 1.5576768  1.55679198 1.55591206 1.56042092\n",
      " 1.60205046 1.8075371  2.45777698]\n"
     ]
    },
    {
     "data": {
      "text/plain": [
       "<seaborn.axisgrid.JointGrid at 0x1a2144f160>"
      ]
     },
     "execution_count": 8,
     "metadata": {},
     "output_type": "execute_result"
    },
    {
     "data": {
      "image/png": "[encoded data removed]",
      "text/plain": [
       "<Figure size 432x432 with 3 Axes>"
      ]
     },
     "metadata": {
      "needs_background": "light"
     },
     "output_type": "display_data"
    }
   ],
   "source": [
    "### Steps of 15 makes no sense when the distance between exp(−8) and exp(3) is ~20\n",
    "# You must mean 15 steps?\n",
    "al = np.arange(-8,7)\n",
    "param_grid = {\n",
    "    'Ridge__alpha': np.exp(al)\n",
    "}\n",
    "\n",
    "search = GridSearchCV(model_pipeline_2,\n",
    "                      param_grid,\n",
    "                      n_jobs=-1,\n",
    "                      cv=10, \n",
    "                      scoring='neg_mean_squared_error')\n",
    "search.fit(X,y)\n",
    "\n",
    "scores = -search.cv_results_['mean_test_score']\n",
    "\n",
    "print(scores)\n",
    "sns.jointplot(x=al, y=scores)\n"
   ]
  },
  {
   "cell_type": "markdown",
   "metadata": {},
   "source": [
    "### Question 6: Ridge regression with a more complex model - containing all 2-nd order interactions (2pt)\n",
    "Give how well the model with all quadratic interactions worked the last time, your boss now wants to see if you can fit this model with all quadratic interaction terms to the data. \n",
    "Build a design matrix with all quadratic terms and 2-way interactions and then standardize them.  You can very easily do this by altering your pipeline.\n",
    "\n",
    "Check how many regressors you have. Explain why you have this many terms. "
   ]
  },
  {
   "cell_type": "code",
   "execution_count": 9,
   "metadata": {},
   "outputs": [
    {
     "data": {
      "image/png": "[encoded data removed]",
      "text/plain": [
       "<Figure size 432x288 with 1 Axes>"
      ]
     },
     "metadata": {
      "needs_background": "light"
     },
     "output_type": "display_data"
    }
   ],
   "source": [
    "model_pipeline_3 = Pipeline([\n",
    "    ('poly', PolynomialFeatures(include_bias=False)),\n",
    "    ('standardize', StandardScaler())\n",
    "])\n",
    "\n",
    "X_ss = model_pipeline_3.fit_transform(X=X)\n",
    "\n",
    "plt.imshow(X_ss[0:50])\n",
    "plt.show()"
   ]
  },
  {
   "cell_type": "code",
   "execution_count": null,
   "metadata": {},
   "outputs": [],
   "source": []
  },
  {
   "cell_type": "markdown",
   "metadata": {},
   "source": [
    "### Question 7: Tune the Ridge coefficient for the 2nd-order model   (3pt)\n",
    "Now use 10-fold CV on the training set to determine a good setting for the regularization coefficient. Perform the search in log-space, going from $\\lambda = \\exp(-8), \\cdots, \\exp(3)$ in steps of 15. Plot the mean squared error as a function of $log(\\lambda)$. \n",
    "\n",
    "Written answer: What does the shape of the curve (as compared to the answer to Question 5) tell you about this model? What is the best regularization?\n",
    "The curve seems to follow a quadratic form. It amplifies the effects of the coefficients on the loss, making it obvious that exp(2) is probably the best performing result when it comes to trainging error."
   ]
  },
  {
   "cell_type": "code",
   "execution_count": 10,
   "metadata": {},
   "outputs": [
    {
     "name": "stdout",
     "output_type": "stream",
     "text": [
      "[1.21372187 1.14023746 1.05093787 0.96545545 0.89475271 0.83413183\n",
      " 0.77837142 0.72971005 0.69208048 0.66839131 0.6639495  0.68702233\n",
      " 0.75265529 0.88405871 1.09544064]\n"
     ]
    },
    {
     "data": {
      "text/plain": [
       "<seaborn.axisgrid.JointGrid at 0x10bb746d8>"
      ]
     },
     "execution_count": 10,
     "metadata": {},
     "output_type": "execute_result"
    },
    {
     "data": {
      "image/png": "[encoded data removed]",
      "text/plain": [
       "<Figure size 432x432 with 3 Axes>"
      ]
     },
     "metadata": {
      "needs_background": "light"
     },
     "output_type": "display_data"
    }
   ],
   "source": [
    "model_pipeline_3 = Pipeline([\n",
    "    ('poly', PolynomialFeatures()),\n",
    "    ('standardize', StandardScaler()),\n",
    "    ('Ridge', Ridge(fit_intercept=True))\n",
    "])\n",
    "\n",
    "search = GridSearchCV(model_pipeline_3,\n",
    "                      param_grid,\n",
    "                      n_jobs=-1,\n",
    "                      cv=10, \n",
    "                      scoring='neg_mean_squared_error')\n",
    "search.fit(X,y)\n",
    "\n",
    "scores_2 = -search.cv_results_['mean_test_score']\n",
    "\n",
    "\n",
    "print(scores_2)\n",
    "sns.jointplot(x=al, y=scores_2)"
   ]
  },
  {
   "cell_type": "markdown",
   "metadata": {},
   "source": [
    "### Question 8: Test error  (2pt)\n",
    "Report proportion of variance predicted + the 95% confidence for the 2nd-order model with the best regularization parameter, when you fit it on the entire training set. \n",
    "\n",
    "\n"
   ]
  },
  {
   "cell_type": "code",
   "execution_count": 11,
   "metadata": {},
   "outputs": [
    {
     "name": "stdout",
     "output_type": "stream",
     "text": [
      "Explained Variance Score:  0.9863723722840084\n",
      "Estimated MSE: 102.56525264194413\n",
      "95% Confidence Bounds:  [102.01380599 103.1166993 ]\n"
     ]
    }
   ],
   "source": [
    "test_y = np.array(test['overall']).reshape(-1, 1)\n",
    "grid_pred = search.best_estimator_.predict(test.drop('overall', axis = 'columns'))\n",
    "\n",
    "print(\"Explained Variance Score: \",explained_variance_score(test_y,grid_pred))\n",
    "\n",
    "\n",
    "\n",
    "mse_8, bounds = confidence_interval((grid_pred - test_y)**2)\n",
    "\n",
    "print(\"Estimated MSE:\",mse_8 )\n",
    "print(\"95% Confidence Bounds: \", bounds)"
   ]
  },
  {
   "cell_type": "markdown",
   "metadata": {},
   "source": [
    "### Question 9: Fine-tuning (2 pt)\n",
    "That's pretty impressive! \n",
    "\n",
    "Now, your boss thinks that you could slightly improve your test error by fine-tuning your ridge parameter on the test set for the full model fit. Your boss instructs you to combine the training and test sets, refit the model, and then re-test on the test set.\n",
    "\n",
    "Would you predict that a smaller or bigger regularization factor would do better? What do you think of this procedure? Is this a reliable procedure for assessing model fit?  Answer in no more than 5 sentences.\n",
    "\n",
    "I think a smaller regularization parameter would do better. This is because the ridge regression parameter is meant to sacrifice training error for testing error. Meaning, the larger the regularization parameter the larger the training loss but the higher expected test loss. So if we train the model, including the test data, we will definitely be sacrificing test accuracy. I wouldn't recommend this, but I could be wrong."
   ]
  },
  {
   "cell_type": "markdown",
   "metadata": {},
   "source": [
    "---\n",
    "* Write your code in the cells provided.  Where appropirate, enter markdown to answer questions.\n",
    "* Delete your output before submitting and ensure that the code works when executed sequentially\n",
    "* Submit this notebook to OWL."
   ]
  },
  {
   "cell_type": "code",
   "execution_count": null,
   "metadata": {},
   "outputs": [],
   "source": [
    "model_pipeline_4 = Pipeline([\n",
    "    ('poly', PolynomialFeatures()),\n",
    "    ('standardize', StandardScaler()),\n",
    "    ('Ridge', Ridge(fit_intercept=True))\n",
    "])\n",
    "\n",
    "search = GridSearchCV(model_pipeline_4 ,\n",
    "                      param_grid,\n",
    "                      n_jobs=-1,\n",
    "                      cv=10, \n",
    "                      scoring='neg_mean_squared_error')\n",
    "X_9 = model_data_last.drop('overall', axis = 'columns')\n",
    "y_9 = model_data_last['overall']\n",
    "search.fit(X_9,y_9)\n",
    "\n",
    "scores_2 = -search.cv_results_['mean_test_score']\n",
    "\n",
    "\n",
    "print(scores_2)\n",
    "sns.jointplot(x=al, y=scores_2)\n",
    "\n",
    "#-----\n",
    "last_y = np.array(model_data_last['overall']).reshape(-1, 1)\n",
    "grid_pred = search.best_estimator_.predict(model_data_last.drop('overall', axis = 'columns'))\n",
    "\n",
    "print(\"Explained Variance Score: \",explained_variance_score(last_y,grid_pred))\n",
    "\n",
    "\n",
    "\n",
    "mse_9, bounds = confidence_interval((grid_pred - last_y)**2)\n",
    "\n",
    "print(\"Estimated MSE:\",mse_9)\n",
    "print(\"95% Confidence Bounds: \", bounds)"
   ]
  },
  {
   "cell_type": "code",
   "execution_count": null,
   "metadata": {},
   "outputs": [],
   "source": []
  },
  {
   "cell_type": "code",
   "execution_count": null,
   "metadata": {},
   "outputs": [],
   "source": []
  },
  {
   "cell_type": "code",
   "execution_count": null,
   "metadata": {},
   "outputs": [],
   "source": []
  }
 ],
 "metadata": {
  "kernelspec": {
   "display_name": "Python 3",
   "language": "python",
   "name": "python3"
  },
  "language_info": {
   "codemirror_mode": {
    "name": "ipython",
    "version": 3
   },
   "file_extension": ".py",
   "mimetype": "text/x-python",
   "name": "python",
   "nbconvert_exporter": "python",
   "pygments_lexer": "ipython3",
   "version": "3.7.1"
  }
 },
 "nbformat": 4,
 "nbformat_minor": 4
}
