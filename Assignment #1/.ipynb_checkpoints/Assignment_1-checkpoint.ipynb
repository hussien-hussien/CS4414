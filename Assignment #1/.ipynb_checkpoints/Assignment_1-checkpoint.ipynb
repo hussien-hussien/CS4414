{
 "cells": [
  {
   "cell_type": "markdown",
   "metadata": {},
   "source": [
    "# Assignment 01: Supervised learning, Linear models, and Loss functions\n",
    "## Grade: /20 Mark(s)\n",
    "\n",
    "\n",
    "In this assignment, you're going to write your own methods to fit a linear model using either an OLS or LAD cost function. At the end you will compare them to the implementation to the implementation of `statsmodels`.  \n",
    "\n",
    "In this assignment, we have provided hints and partial solutions. Your job is to fill in the missing components.\n",
    "\n",
    "## Data set \n",
    "\n",
    "For this assignment, we will examine some data representing possums in Australia and New Guinea. The data frame contains 46 observations on the following 6 variables:\n",
    "\n",
    "* sex: Sex, either m (male) or f (female).\n",
    "* age: Age in years.\n",
    "* headL: Head length, in mm.\n",
    "* skullW: Skull width, in mm.\n",
    "* totalL: Total length, in cm.\n",
    "* tailL: Tail length, in cm.\n",
    "\n",
    "## Follow These Steps before submitting\n",
    "Once you are finished, ensure to complete the following steps.\n",
    "\n",
    "1.  Restart your kernel by clicking 'Kernel' > 'Restart & Run All'.\n",
    "\n",
    "2.  Fix any errors which result from this.\n",
    "\n",
    "3.  Repeat steps 1. and 2. until your notebook runs without errors.\n",
    "\n",
    "4.  Submit your completed notebook to OWL by the deadline.\n",
    "\n",
    "\n",
    "## Preliminaries"
   ]
  },
  {
   "cell_type": "code",
   "execution_count": 1,
   "metadata": {},
   "outputs": [],
   "source": [
    "#It's dangerous to go alone.  Take these!\n",
    "import matplotlib.pyplot as plt \n",
    "import numpy as np\n",
    "import pandas as pd\n",
    "import scipy.stats as ss \n",
    "import scipy.optimize as so\n",
    "import statsmodels.api as sm\n",
    "import statsmodels.formula.api as smf\n",
    "import warnings\n",
    "warnings.filterwarnings('ignore')\n",
    "\n",
    "%matplotlib inline"
   ]
  },
  {
   "cell_type": "markdown",
   "metadata": {},
   "source": [
    "### Question 1:  /1 Mark(s)\n",
    "\n",
    "\n",
    "Read in the `possum.csv` file as a `pandas.DataFrame`.  Investigate the relationship between the possum's age and it's tail length by plotting a scatter plot of the `age` and `tailL` columns. You might want to add an `alpha` in case some data are overlapping. "
   ]
  },
  {
   "cell_type": "code",
   "execution_count": 2,
   "metadata": {},
   "outputs": [
    {
     "data": {
      "text/plain": [
       "Text(0, 0.5, 'Tail')"
      ]
     },
     "execution_count": 2,
     "metadata": {},
     "output_type": "execute_result"
    },
    {
     "data": {
      "image/png": "[encoded data removed]",
      "text/plain": [
       "<Figure size 432x288 with 1 Axes>"
      ]
     },
     "metadata": {
      "needs_background": "light"
     },
     "output_type": "display_data"
    }
   ],
   "source": [
    "possum_data = pd.read_csv(\"possum.csv\") # Load in the data using pandas\n",
    "\n",
    "# Make a scatter plot of Age vs. Tail Length\n",
    "# Use: possum_data.plot.scatter(x='',y='',alpha=0.5)....\n",
    "\n",
    "ax = possum_data.plot.scatter(x='age',y='tailL',alpha=0.9)\n",
    "\n",
    "# Label the x- and y-axis\n",
    "# Use: ax.set_xlabel('STRING')\n",
    "\n",
    "ax.set_xlabel('Age')\n",
    "ax.set_ylabel('Tail')\n"
   ]
  },
  {
   "cell_type": "markdown",
   "metadata": {},
   "source": [
    "### Question 2: /1 Mark(s)\n",
    "\n",
    "Recall that the linear model, we obtain predictions by computing \n",
    "\n",
    "$$ \\mathbf{y} = \\mathbf{X} \\beta $$\n",
    "\n",
    "Here, $\\mathbf{X}$ is a design matrix which includes a column of ones, $\\beta$ are coefficients, and $\\mathbf{y}$ are outcomes.  Write a function `linearModelPredict` to compute linear model predictions given data and a coefficient vector.  The function should take as it's arguments a 1d-array of coefficients `b` and the design matrix `X` as a 2d-array and return linear model predictions `yp`.\n",
    "\n",
    "Hint:  Read the documentation for `np.dot` or the `@` operator in `numpy`."
   ]
  },
  {
   "cell_type": "code",
   "execution_count": 3,
   "metadata": {},
   "outputs": [],
   "source": [
    "def linearModelPredict(b,X):\n",
    "\n",
    "    # Compute the matrix product between b and X as shown above\n",
    "    # Return the result, which should be a vector (np-array)\n",
    "    yp = np.dot(X,b)\n",
    "    \n",
    "    return yp\n",
    "\n"
   ]
  },
  {
   "cell_type": "markdown",
   "metadata": {},
   "source": [
    "### Question 3: /3 Mark(s)\n",
    "\n",
    "Write a function `linearModelLossRSS` which computes and returns the loss function for an OLS model parameterized by $\\beta$, as well as the gradient of the loss.  The function should take as its first argument a 1d-array `beta` of coefficients for the linear model, as its second argument the design matrix `X` as a 2d-array, and as its third argument a 1d-array `y` of observed outcomes."
   ]
  },
  {
   "cell_type": "code",
   "execution_count": 4,
   "metadata": {},
   "outputs": [],
   "source": [
    "def linearModelLossRSS(b,X,y):\n",
    "    # Get the model prediction \n",
    "    predY = linearModelPredict(b,X)\n",
    "    # calculate the residuals \n",
    "    res = np.subtract(y, predY)\n",
    "    # Calculate the residual sums of squares \n",
    "    residual_sum_of_squares = np.sum(res**2)\n",
    "    # Calculate the gradient \n",
    "    # gradient = -2(X^t)r\n",
    "    gradient = -2 * np.dot(np.transpose(X),res)\n",
    "    # Return RSS and gradient \n",
    "    return (residual_sum_of_squares, gradient)"
   ]
  },
  {
   "cell_type": "markdown",
   "metadata": {},
   "source": [
    "### Question 4:  /3 Mark(s)\n",
    "\n",
    "Now that you've implemented a loss function in question 3, it is now time to minimize it!\n",
    "\n",
    "Write a function `linearModelFit` to fit a linear model.  The function should take as its first argument the design matrix `X` as a 2d-array, as its second argument a 1d-array `y` of outcomes, and as its third argument a function  `lossfcn` which returns as a tuple the value of the loss, as well as the gradient of the loss."
   ]
  },
  {
   "cell_type": "code",
   "execution_count": 5,
   "metadata": {},
   "outputs": [],
   "source": [
    "def linearModelFit(X,y,lossfcn = linearModelLossRSS):\n",
    "    # Initialize the coefficient vector beta\n",
    "    # HINT: use np.zeros(rows,cols) to get a 2-d array of zeros \n",
    "    # Use X.shape to get the correct dimensions \n",
    "    # Number of columns of X should be the length of the beta-vector \n",
    "    \n",
    "    betas = np.zeros((X.shape[1],1))\n",
    "    \n",
    "    # Use scipy so.miminize to optimize the loss\n",
    "    \n",
    "    RESULTS = so.minimize(linearModelLossRSS,betas,args=(X, y),jac=True)\n",
    "    \n",
    "    # Get the betas from the RESULTS  \n",
    "    estimated_betas = RESULTS.x\n",
    "    \n",
    "    \n",
    "    # Calculate the residuals (OF WHAT???)\n",
    "    res = np.subtract(y, linearModelPredict(estimated_betas,X))\n",
    "    \n",
    "    # Calculate the  total sum of squares\n",
    "    TSS = np.sum((y - np.average(y))**2)\n",
    "    \n",
    "    # Caluculate the residual sums of squares (you can also use linearModelLossRSS)\n",
    "    RSS, gradient = linearModelLossRSS(estimated_betas,X,y)\n",
    "    \n",
    "    R2 = 1 - (RSS/TSS) # Compute the value for r squared\n",
    "    # Return estimated betas and the R2 \n",
    "    return (estimated_betas,R2)"
   ]
  },
  {
   "cell_type": "markdown",
   "metadata": {},
   "source": [
    "### Question 5: /3 Mark(s)\n",
    "\n",
    "Use the above functions to fit your model. Use your model to make predictions along a grid of equally spaced possum ages.  Then plot the real data as a scatter plot and add the predicted values as a line. The last line of code  will print the R squared value on the plot.\n",
    "\n"
   ]
  },
  {
   "cell_type": "code",
   "execution_count": 6,
   "metadata": {},
   "outputs": [
    {
     "data": {
      "text/plain": [
       "Text(0.25, 0.8, 'R Squared: 0.22')"
      ]
     },
     "execution_count": 6,
     "metadata": {},
     "output_type": "execute_result"
    },
    {
     "data": {
      "image/png": "[encoded data removed]",
      "text/plain": [
       "<Figure size 432x288 with 1 Axes>"
      ]
     },
     "metadata": {
      "needs_background": "light"
     },
     "output_type": "display_data"
    }
   ],
   "source": [
    "# Build the design matrix X.\n",
    "# by concatinating a column of ones (use np.ones)\n",
    "# with the values of age\n",
    "# For column concatination you can use np.c_\n",
    "y = possum_data.tailL.values\n",
    "age = possum_data.age.values\n",
    "N = age.size\n",
    "X = np.c_[np.ones(N), age]\n",
    "\n",
    "# Then Fit the model using linearModelFit\n",
    "betas, R2 = linearModelFit(X,y)\n",
    "\n",
    "# Initialize an evenly spaced vector of ages ranging from 1 to 9.\n",
    "age_grid = np.arange(1,9)\n",
    "\n",
    "# Build a new design matrix with a column of np.ones of the right size \n",
    "# as the first column and age_grid as the second column  \n",
    "Xn = np.column_stack((np.ones(age_grid.shape[0], dtype=int),age_grid))\n",
    "\n",
    "# Compute the predictions for the grid of ages.\n",
    "yn = linearModelPredict(betas,Xn)\n",
    "\n",
    "# Make a scatter plot of the real data \n",
    "# Set the x-axis and y-axis labels correctly \n",
    "ax = possum_data.plot.scatter(x='age',y='tailL',alpha=0.9)\n",
    "\n",
    "# Label the x- and y-axis\n",
    "# Use: ax.set_xlabel('STRING')\n",
    "\n",
    "ax.set_xlabel('Age')\n",
    "ax.set_ylabel('Tail')\n",
    "\n",
    "# Add the predicted values plotted as a red line \n",
    "# ax.plot\n",
    "ax.plot(yn,color = 'r')\n",
    "\n",
    "\n",
    "\n",
    "# Annotate your graph using ax.annotate to \n",
    "ax.annotate('R Squared: {R2}'.format(R2=R2.round(2)), \n",
    "            xy=(0.25, 0.8), \n",
    "            xycoords='axes fraction',\n",
    "            ha='center',\n",
    "            fontsize = 16)\n"
   ]
  },
  {
   "cell_type": "markdown",
   "metadata": {},
   "source": [
    "___\n",
    "\n",
    "### Question 6:  /3 Mark(s)\n",
    "\n",
    "In the previous section, we worked with the squared loss.  Now, we'll implement a linear model with least absolute deviation loss.\n",
    "\n",
    "Write a function `linearModelLossLAD` which computes the least absolute deviation loss function for a linear model  parameterized by $\\beta$, as well as the gradient of the loss.  The function should take as its first argument a 1d-array `beta` of coefficients for the linear model, as its second argument the design matrix `X` as a 2d-array, and as its third argument a 1d-array `y` of observed outcomes.\n",
    "\n"
   ]
  },
  {
   "cell_type": "code",
   "execution_count": 7,
   "metadata": {},
   "outputs": [],
   "source": [
    "def linearModelLossLAD(b,X,y):\n",
    "    #  Get the model prediction \n",
    "    predY = linearModelPredict(b,X)\n",
    "    # Calculate the residuals \n",
    "    res = np.subtract(y, predY)\n",
    "    # Calculate the sign of the residuals (using np.sign)\n",
    "    sres = np.sign(res)\n",
    "    # Caluclate the sum of the absolute deviation \n",
    "    sum_abs_dev = np.sum(np.absolute(res))\n",
    "    # Compute the gradient \n",
    "    grad =  -np.sum(sres)\n",
    "    # Return loss(sum_abs_dev) and gradient\n",
    "    # ...\n",
    "    \n",
    "    return sum_abs_dev, grad"
   ]
  },
  {
   "cell_type": "markdown",
   "metadata": {},
   "source": [
    "### Question 7: /3 Mark(s)\n",
    "\n",
    "\n",
    "Use the above functions to fit your LAD model. As for Question 5, use your model to make predictions along a grid of equally spaced possum ages.  Provide a scatter plot of the data, and add the model fit as a red line. Don't forget x-labels and y-labels. Compute the R2 value of the fit and add it to the figure using ax.annotate (see Question 5). \n",
    "\n",
    "\n",
    "Note: If you recieve an error from the optimizer, it may be because the loss function for the LAD model is not differentiable at its minimum.  This will lead to some gradient based optimiers to fail to converge.  If this happens to you then pass `method=\"Powell\"` to `scipy.optimize.minimize`."
   ]
  },
  {
   "cell_type": "code",
   "execution_count": 8,
   "metadata": {},
   "outputs": [
    {
     "data": {
      "text/plain": [
       "Text(0.25, 0.8, 'R Squared: 0.09')"
      ]
     },
     "execution_count": 8,
     "metadata": {},
     "output_type": "execute_result"
    },
    {
     "data": {
      "image/png": "[encoded data removed]",
      "text/plain": [
       "<Figure size 432x288 with 1 Axes>"
      ]
     },
     "metadata": {
      "needs_background": "light"
     },
     "output_type": "display_data"
    }
   ],
   "source": [
    "def linearModelFitLAD(X,y,lossfcn = linearModelLossLAD):\n",
    "    # Initialize the coefficient vector beta\n",
    "    # HINT: use np.zeros(rows,cols) to get a 2-d array of zeros \n",
    "    # Use X.shape to get the correct dimensions \n",
    "    # Number of columns of X should be the length of the beta-vector \n",
    "    \n",
    "    betas = np.zeros((X.shape[1],1))\n",
    "    \n",
    "    # Use scipy so.miminize to optimize the loss\n",
    "    \n",
    "    RESULTS = so.minimize(linearModelLossLAD,betas,args=(X, y),jac=True, method=\"Powell\")\n",
    "    \n",
    "    # Get the betas from the RESULTS  \n",
    "    estimated_betas = RESULTS.x\n",
    "    \n",
    "    \n",
    "    # Calculate the residuals (OF WHAT???)\n",
    "    res = np.subtract(y, linearModelPredict(estimated_betas,X))\n",
    "    \n",
    "    # Calculate the  total sum of squares\n",
    "    TSS = np.sum((y - np.average(y))**2)\n",
    "    \n",
    "    # Caluculate the residual sums of squares (you can also use linearModelLossRSS)\n",
    "    RSS, gradient = linearModelLossRSS(estimated_betas,X,y)\n",
    "    \n",
    "    R2 = 1 - (RSS/TSS) # Compute the value for r squared\n",
    "    # Return estimated betas and the R2 \n",
    "    return (estimated_betas,R2) \n",
    "\n",
    "\n",
    "# Build the design matrix X.\n",
    "# by concatinating a column of ones (use np.ones)\n",
    "# with the values of age\n",
    "# For column concatination you can use np.c_\n",
    "y = possum_data.tailL.values\n",
    "age = possum_data.age.values\n",
    "N = age.size\n",
    "X = np.c_[np.ones(N), age]\n",
    "\n",
    "# Then Fit the model using linearModelFit\n",
    "betas, R2 = linearModelFitLAD(X,y)\n",
    "\n",
    "# Initialize an evenly spaced vector of ages ranging from 1 to 9.\n",
    "age_grid = np.arange(1,9)\n",
    "\n",
    "# Build a new design matrix with a column of np.ones of the right size \n",
    "# as the first column and age_grid as the second column  \n",
    "Xn = np.column_stack((np.ones(age_grid.shape[0], dtype=int),age_grid))\n",
    "\n",
    "# Compute the predictions for the grid of ages.\n",
    "yn = linearModelPredict(betas,Xn)\n",
    "\n",
    "# Make a scatter plot of the real data \n",
    "# Set the x-axis and y-axis labels correctly \n",
    "ax = possum_data.plot.scatter(x='age',y='tailL',alpha=0.9)\n",
    "\n",
    "# Label the x- and y-axis\n",
    "# Use: ax.set_xlabel('STRING')\n",
    "\n",
    "ax.set_xlabel('Age')\n",
    "ax.set_ylabel('Tail')\n",
    "\n",
    "# Add the predicted values plotted as a red line \n",
    "# ax.plot\n",
    "ax.plot(yn,color = 'r')\n",
    "\n",
    "\n",
    "# Annotate your graph using ax.annotate to \n",
    "ax.annotate('R Squared: {R2}'.format(R2=R2.round(2)), \n",
    "            xy=(0.25, 0.8), \n",
    "            xycoords='axes fraction',\n",
    "            ha='center',\n",
    "            fontsize = 16)\n"
   ]
  },
  {
   "cell_type": "markdown",
   "metadata": {},
   "source": [
    "### Question 8: /3 Mark(s)\n",
    "\n",
    "Fit both an OLS model and a LAD model with `statsmodels`.  In no more than two sentences, comment on the rsquared values from `statsmodels` and the rsquared values from your models. Are they similar?\n",
    "\n",
    "`COMMENT:` It appears that the OLS models do have the same r-squared values. The R-squared models are hard to compare when looking at the r-squared values since I am getting a NaN value for the model from `statsmodels` but when plotted both models look similar."
   ]
  },
  {
   "cell_type": "code",
   "execution_count": 9,
   "metadata": {},
   "outputs": [
    {
     "name": "stdout",
     "output_type": "stream",
     "text": [
      "OLS rsquared:  0.22\n",
      "LAD rsquared:  nan\n"
     ]
    },
    {
     "data": {
      "text/plain": [
       "<matplotlib.legend.Legend at 0x1c256facc0>"
      ]
     },
     "execution_count": 9,
     "metadata": {},
     "output_type": "execute_result"
    },
    {
     "data": {
      "image/png": "[encoded data removed]",
      "text/plain": [
       "<Figure size 432x288 with 1 Axes>"
      ]
     },
     "metadata": {
      "needs_background": "light"
     },
     "output_type": "display_data"
    }
   ],
   "source": [
    "import statsmodels.api as sm\n",
    "import statsmodels.formula.api as smf\n",
    "import statsmodels\n",
    "\n",
    "\n",
    "ols_fit = sm.OLS(y,X).fit() # Fit an OLS Model with statsmodels\n",
    "lad_fit = statsmodels.regression.quantile_regression.QuantReg(y,X).fit(q=0.5) # Fit a LAD Model with statsmodels\n",
    "\n",
    "print('OLS rsquared: ', ols_fit.rsquared.round(2))\n",
    "print('LAD rsquared: ', lad_fit.rsquared) # Getting a nan is fine here, don't worry.\n",
    "\n",
    "\n",
    "age = np.linspace(0,9,1001)\n",
    "\n",
    "# Build a new design matrix with a column of np.ones of the right size \n",
    "# as the first column and age_grid as the second column  \n",
    "\n",
    "\n",
    "y_ols = ols_fit.predict(sm.add_constant(age)) # Make predictions with your ols_fit\n",
    "y_lad = lad_fit.predict(sm.add_constant(age)) # Make predictions with your lad_fit\n",
    "\n",
    "\n",
    "# Provide a scatter plot of the data and add the OLS and LAD fit as a solid red \n",
    "# and dashed red line (use linestyle='dashed')\n",
    "# Add a legend to your graph (ax.legend)\n",
    "\n",
    "ax = possum_data.plot.scatter(x='age',y='tailL',alpha=0.9)\n",
    "\n",
    "# Label the x- and y-axis\n",
    "ax.set_xlabel('Age')\n",
    "ax.set_ylabel('Tail')\n",
    "\n",
    "\n",
    "# Add the predicted values plotted as a red lines\n",
    "ax.plot(age, y_ols,color = 'r', label=\"OLS\")\n",
    "ax.plot(age, y_lad,color = 'r',linestyle='dashed', label=\"LAD\")\n",
    "\n",
    "# Add Legend\n",
    "ax.legend()"
   ]
  },
  {
   "cell_type": "markdown",
   "metadata": {},
   "source": [
    "# Follow These Steps...\n",
    "\n",
    "Once you are finished, ensure to complete the following steps.\n",
    "\n",
    "1.  Restart your kernel by clicking 'Kernel' > 'Restart & Run All'.\n",
    "\n",
    "2.  Fix any errors which result from this.\n",
    "\n",
    "3.  Repeat steps 1. and 2. until your notebook runs without errors.\n",
    "\n",
    "4.  Submit your completed notebook to OWL by the deadline."
   ]
  }
 ],
 "metadata": {
  "kernelspec": {
   "display_name": "Python 3",
   "language": "python",
   "name": "python3"
  },
  "language_info": {
   "codemirror_mode": {
    "name": "ipython",
    "version": 3
   },
   "file_extension": ".py",
   "mimetype": "text/x-python",
   "name": "python",
   "nbconvert_exporter": "python",
   "pygments_lexer": "ipython3",
   "version": "3.7.1"
  }
 },
 "nbformat": 4,
 "nbformat_minor": 2
}
