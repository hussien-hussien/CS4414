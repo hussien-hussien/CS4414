{
 "cells": [
  {
   "cell_type": "markdown",
   "metadata": {},
   "source": [
    "# Grade: /20 Mark(s)\n",
    "\n",
    "# Assignment 02: Maximum Likelihood\n",
    "\n",
    "\n",
    "### Maximum Likelihood\n",
    "\n",
    "The poisson distribution https://en.wikipedia.org/wiki/Poisson_distribution is a discrete probability distribution often used to describe count-based data, like how many snowflakes fall in a day.\n",
    "\n",
    "If we have count data $y$ that are influenced by a covariate or feature $x$, we can use the maximum likelihood principle to develop a regression model relating $x$ to $y$.\n",
    "\n",
    "\n",
    "\n",
    "\n",
    "### Follow These Instructions\n",
    "\n",
    "Once you are finished, ensure to complete the following steps.\n",
    "\n",
    "1.  Restart your kernel by clicking 'Kernel' > 'Restart & Run All'.\n",
    "\n",
    "2.  Fix any errors which result from this.\n",
    "\n",
    "3.  Repeat steps 1. and 2. until your notebook runs without errors.\n",
    "\n",
    "4.  Submit your completed notebook to OWL by the deadline.\n"
   ]
  },
  {
   "cell_type": "code",
   "execution_count": 1,
   "metadata": {},
   "outputs": [],
   "source": [
    "#It's dangerous to go alone.  Take these!\n",
    "import numpy as np\n",
    "import matplotlib.pyplot as plt\n",
    "import pandas as pd\n",
    "import statsmodels.formula.api as sm\n",
    "from statsmodels.tools import add_constant\n",
    "from scipy.optimize import minimize\n",
    "from scipy.special import gammaln\n",
    "\n",
    "import numpy as np"
   ]
  },
  {
   "cell_type": "markdown",
   "metadata": {},
   "source": [
    "### Question 1: /2 Mark(s)\n",
    "\n",
    "The negative log likelihood for a Poisson random variable is\n",
    "\n",
    "$$\\ell(\\lambda; \\mathbf{y}) = -\\sum_{i=1}^N\\Bigg( y_{i}\\cdot \\ln(\\lambda) - \\lambda - \\ln(y_i!) \\Bigg)$$\n",
    "\n",
    "Here, $\\mathbf{y}$ is a vector of counts and $\\lambda$ is a scalar value.\n",
    "\n",
    "Write a function called `poissonNegLogLikelihood` that takes a vector of counts $\\mathbf{y}$ and a parameter $\\lambda$ and returns the negative log likelihood.  The $\\sum_{i} \\ln(y_i!)$ does not affect the location of the maximum, and so you can omit the $ \\ln(y_i!)$ in your function.\n",
    "\n",
    "\n",
    "Test your function by calling it with `lam = 1.3` and `y=np.array([2,1,0,0])`.\n",
    "\n",
    "What happens when you call the function when `lam=np.array([1,0.5,1,3])` and  `y=np.array([2,1,0,0])`? \n",
    "\n",
    "Answer the following below in markdown: What happens when you set an element of lam to 0 or a negative number and why?\n",
    "When lam is 0 or negative you get an error. This is because we apply the log function to lam in the likelihood function and the log of 0 or a negative number is undefined.\n",
    "\n"
   ]
  },
  {
   "cell_type": "code",
   "execution_count": 11,
   "metadata": {},
   "outputs": [
    {
     "data": {
      "text/plain": [
       "4.412907206597527"
      ]
     },
     "execution_count": 11,
     "metadata": {},
     "output_type": "execute_result"
    }
   ],
   "source": [
    "def poissonNegLogLikelihood(lam,y):\n",
    "    # takes a vector of counts  y  and a parameter  λ  and returns the negative log likelihood.     \n",
    "    # Read up on the gamma function to make sure you get the likelihood right!\n",
    "    neg_log_lik = -np.sum(y * np.log(lam) - lam)\n",
    "    return neg_log_lik\n",
    "\n",
    "poissonNegLogLikelihood(1.3,y=np.array([2,1,0,0]))"
   ]
  },
  {
   "cell_type": "code",
   "execution_count": 12,
   "metadata": {},
   "outputs": [
    {
     "data": {
      "text/plain": [
       "6.193147180559945"
      ]
     },
     "execution_count": 12,
     "metadata": {},
     "output_type": "execute_result"
    }
   ],
   "source": [
    "poissonNegLogLikelihood(np.array([1,0.5,1,3]),y=np.array([2,1,0,0]))\n",
    "# As shown in the output, if we pass a vector of λs instead of 1 scalar value, the log likelihood function will iterate through each of them simply apply each point as a seperate λ."
   ]
  },
  {
   "cell_type": "markdown",
   "metadata": {},
   "source": [
    "### Question 2: /3 Mark(s)\n",
    "\n",
    "Write a function called `poissonRegressionNegLogLikelihood` that takes as arguments a vector $\\mathbf{y}$ of counts, a design matrix $\\mathbf{X}$ of features for each count, and a vector $\\mathbf{\\beta}$ of parameters. The function should return the negative log likelihood of this dataset, assuming that each element of  $\\mathbf{y}$ is independent and Poisson distributed with parameter $\\lambda = \\exp(\\mathbf{X}\\beta)$.\n",
    "\n",
    "Hint: You can use `poissonNegLogLikelihood` in this answer!\n",
    "Test your function by calling it with \n",
    "* `b=np.array([1,2])`\n",
    "* `X=np.array([[1,2,3],[2,3,1]]).T`\n",
    "* `y=np.array([0,2,10])`\n"
   ]
  },
  {
   "cell_type": "code",
   "execution_count": 13,
   "metadata": {},
   "outputs": [
    {
     "data": {
      "text/plain": [
       "3211.7843052468816"
      ]
     },
     "execution_count": 13,
     "metadata": {},
     "output_type": "execute_result"
    }
   ],
   "source": [
    "def poissonRegressionNegLogLikelihood(b, X, y):\n",
    "    #Enter the expression for lambda as shown above!\n",
    "    lam =  np.exp(X@b)\n",
    "    # Use poissonNegLogLikelihood to compute the likelihood\n",
    "    neg_log_lik = poissonNegLogLikelihood(lam,y)\n",
    "    return neg_log_lik\n",
    "\n",
    "b=np.array([1,2])\n",
    "X=np.array([[1,2,3],[2,3,1]]).T\n",
    "y=np.array([0,2,10])\n",
    "poissonRegressionNegLogLikelihood(b,X,y)"
   ]
  },
  {
   "cell_type": "markdown",
   "metadata": {},
   "source": [
    "### Question 3: /2 Mark(s)\n",
    "\n",
    "a) In `poissonRegressionNegLogLikelihood`, why did we apply the exponential function to $\\mathbf{X}\\beta$?  Hint: Can an exponential ever be negative?\n",
    "\n",
    "b) What might have happened had we just passed $\\lambda = \\mathbf{X}\\beta$?\n",
    "\n",
    "Answer parts a) and b) below in this cell.  Write no more than 2 sentences per answer! \n",
    "\n",
    "---\n",
    "a)\n",
    "\n",
    "b)"
   ]
  },
  {
   "cell_type": "markdown",
   "metadata": {},
   "source": [
    "### Question 4: /1 Mark(s)\n",
    "\n",
    "Write a function called `modelPrediction` which accepts as its first argument a vector of coefficents $\\beta$ and a design matrix $\\mathbf{X}$.  The function should return predictions of the form $\\widehat{\\mathbf{y}} = \\exp(\\mathbf{X}\\beta)$. \n",
    "\n",
    "Hint: Numpy implements the exponential using `np.exp`.  \n",
    "\n",
    "Test your function by calling it with \n",
    "* `b=np.array([1,2])`\n",
    "* `X=np.array([[1,2,3],[2,3,1]]).T`"
   ]
  },
  {
   "cell_type": "code",
   "execution_count": 14,
   "metadata": {},
   "outputs": [
    {
     "data": {
      "text/plain": [
       "array([ 148.4131591 , 2980.95798704,  148.4131591 ])"
      ]
     },
     "execution_count": 14,
     "metadata": {},
     "output_type": "execute_result"
    }
   ],
   "source": [
    "def modelPrediction(b,X):\n",
    "    yhat = np.exp(X@b)\n",
    "    return yhat\n",
    "\n",
    "b=np.array([1,2])\n",
    "X=np.array([[1,2,3],[2,3,1]]).T\n",
    "\n",
    "modelPrediction(b, X)"
   ]
  },
  {
   "cell_type": "markdown",
   "metadata": {},
   "source": [
    "### Question 5: /3 Mark(s)\n",
    "\n",
    "Write a function called `fitModel` which accepts as its first argument argument a design matrix $\\mathbf{X}$ and as its second argument a vector of outcomes counts $\\mathbf{y}$. The function should return the maximum likelihood estimates for the coefficients of a Poisson regression of $\\mathbf{y}$ onto $\\mathbf{X}$.\n",
    "\n",
    "Test your function by calling it with \n",
    "* `X=np.array([[1,2,3],[2,3,1]]).T`\n",
    "* `y=np.array([0,2,10])`\n",
    "\n",
    "What is your estimated b? "
   ]
  },
  {
   "cell_type": "code",
   "execution_count": 15,
   "metadata": {},
   "outputs": [
    {
     "data": {
      "text/plain": [
       "array([ 0.94827555, -0.52953518])"
      ]
     },
     "execution_count": 15,
     "metadata": {},
     "output_type": "execute_result"
    }
   ],
   "source": [
    "def fitModel(X,y):\n",
    "\n",
    "    # Instantiate a guess for the betas, beta_start, so that the optimizer has somewhere to start\n",
    "    # Keep in mind what shape the beta_start should be. It shoud have the same number of elements as X as columns\n",
    "    beta_start = np.zeros((X.shape[1],1))\n",
    "    # Minimize the appropriate likelihood function\n",
    "    mle = minimize(poissonRegressionNegLogLikelihood, beta_start, args=(X,y), method=\"Powell\", tol=1e-8)\n",
    "    # Extract the maximum likelihood estimates from the optimizer.\n",
    "    betas = mle.x\n",
    "    return betas\n",
    "\n",
    "X=np.array([[1,2,3],[2,3,1]]).T\n",
    "y=np.array([0,2,10])\n",
    "fitModel(X,y)"
   ]
  },
  {
   "cell_type": "markdown",
   "metadata": {},
   "source": [
    "### Question 6: /4 Mark(s)\n",
    "\n",
    "Load in the data from `poisson_regression_data.csv`. Plot a scatterplot of the data. Fit a poisson regression to this data using the functions you wrote above.  Plot the model predictions over $x \\in [-2,2]$ on the same graph as the scatterplot of the data.  "
   ]
  },
  {
   "cell_type": "code",
   "execution_count": 16,
   "metadata": {},
   "outputs": [
    {
     "data": {
      "text/plain": [
       "[<matplotlib.lines.Line2D at 0x1a22f5ab00>]"
      ]
     },
     "execution_count": 16,
     "metadata": {},
     "output_type": "execute_result"
    },
    {
     "data": {
      "image/png": "[encoded data removed]",
      "text/plain": [
       "<Figure size 720x480 with 1 Axes>"
      ]
     },
     "metadata": {
      "needs_background": "light"
     },
     "output_type": "display_data"
    }
   ],
   "source": [
    "# Loading in the data.  \n",
    "df = pd.read_csv(\"poisson_regression_data.csv\")\n",
    "\n",
    "fig, ax = plt.subplots(dpi = 120)\n",
    "\n",
    "# Scatter the data.\n",
    "\n",
    "#df.plot.scatter(x='x', y='y')\n",
    "ax.scatter(df.x, df.y, alpha=0.9)\n",
    "\n",
    "# Fit the model.  You can use your functions.  \n",
    "x = df.x.values \n",
    "X = add_constant(x)\n",
    "y= df.y.values\n",
    "\n",
    "# Find the maximum likelihood estimates for the coefficients for this data\n",
    "betas = fitModel(X,y)\n",
    "\n",
    "# Make predictions on new data\n",
    "newx = np.linspace(-2,2,1001)\n",
    "newX = add_constant(newx)\n",
    "\n",
    "# Make predictions on the new data\n",
    "y_predicted = modelPrediction(betas,newX)\n",
    "\n",
    "#Finally, plot the predictions on the same axis and color the predictions red\n",
    "\n",
    "ax.plot(newx,y_predicted, color='red')\n"
   ]
  },
  {
   "cell_type": "code",
   "execution_count": null,
   "metadata": {},
   "outputs": [],
   "source": []
  },
  {
   "cell_type": "markdown",
   "metadata": {},
   "source": [
    "### Question 7:  /4 Mark(s)\n",
    "\n",
    "Now apply linear regression (ordinary least squares) to the data, obtain parameter estimates and plot the predictions over the same range.  Feel free to use `statsmodels` to fit the linear regression."
   ]
  },
  {
   "cell_type": "code",
   "execution_count": 17,
   "metadata": {},
   "outputs": [
    {
     "data": {
      "text/plain": [
       "<matplotlib.legend.Legend at 0x1a22fc5b00>"
      ]
     },
     "execution_count": 17,
     "metadata": {},
     "output_type": "execute_result"
    },
    {
     "data": {
      "image/png": "[encoded data removed]",
      "text/plain": [
       "<Figure size 720x480 with 1 Axes>"
      ]
     },
     "metadata": {
      "needs_background": "light"
     },
     "output_type": "display_data"
    }
   ],
   "source": [
    "import statsmodels.formula.api as smf\n",
    "# Read in the data\n",
    "df = pd.read_csv(\"poisson_regression_data.csv\")\n",
    "# Instantiate the model\n",
    "model = sm.ols('y~x', data=df).fit()\n",
    "\n",
    "# Fit the model.  Remember, in statsmodels this happens in a different step!\n",
    "# You can use either the formula or the functionl API here \n",
    "\n",
    "# Make predictions over the range -2 to 2\n",
    "newerx = np.linspace(-2,2,101)\n",
    "new_df = pd.DataFrame({'new X':newerx})\n",
    "\n",
    "y_ols = model.predict(new_df)\n",
    "\n",
    "# Plot a scatter plot of the data and your model's predictions\n",
    "fig, ax = plt.subplots(dpi = 120)\n",
    "ax.scatter(df.x,df.y)\n",
    "ax.plot(newerx, y_ols, color = 'red', label = 'OLS')\n",
    "\n",
    "ax.set_xlabel('x')\n",
    "ax.set_ylabel('y')\n",
    "ax.legend()\n"
   ]
  },
  {
   "cell_type": "code",
   "execution_count": 18,
   "metadata": {},
   "outputs": [
    {
     "data": {
      "text/html": [
       "<table class=\"simpletable\">\n",
       "<caption>OLS Regression Results</caption>\n",
       "<tr>\n",
       "  <th>Dep. Variable:</th>            <td>y</td>        <th>  R-squared:         </th> <td>   0.520</td>\n",
       "</tr>\n",
       "<tr>\n",
       "  <th>Model:</th>                   <td>OLS</td>       <th>  Adj. R-squared:    </th> <td>   0.515</td>\n",
       "</tr>\n",
       "<tr>\n",
       "  <th>Method:</th>             <td>Least Squares</td>  <th>  F-statistic:       </th> <td>   107.4</td>\n",
       "</tr>\n",
       "<tr>\n",
       "  <th>Date:</th>             <td>Sun, 19 Jan 2020</td> <th>  Prob (F-statistic):</th> <td>1.78e-17</td>\n",
       "</tr>\n",
       "<tr>\n",
       "  <th>Time:</th>                 <td>19:58:20</td>     <th>  Log-Likelihood:    </th> <td> -169.23</td>\n",
       "</tr>\n",
       "<tr>\n",
       "  <th>No. Observations:</th>      <td>   101</td>      <th>  AIC:               </th> <td>   342.5</td>\n",
       "</tr>\n",
       "<tr>\n",
       "  <th>Df Residuals:</th>          <td>    99</td>      <th>  BIC:               </th> <td>   347.7</td>\n",
       "</tr>\n",
       "<tr>\n",
       "  <th>Df Model:</th>              <td>     1</td>      <th>                     </th>     <td> </td>   \n",
       "</tr>\n",
       "<tr>\n",
       "  <th>Covariance Type:</th>      <td>nonrobust</td>    <th>                     </th>     <td> </td>   \n",
       "</tr>\n",
       "</table>\n",
       "<table class=\"simpletable\">\n",
       "<tr>\n",
       "      <td></td>         <th>coef</th>     <th>std err</th>      <th>t</th>      <th>P>|t|</th>  <th>[0.025</th>    <th>0.975]</th>  \n",
       "</tr>\n",
       "<tr>\n",
       "  <th>Intercept</th> <td>    1.3950</td> <td>    0.130</td> <td>   10.738</td> <td> 0.000</td> <td>    1.137</td> <td>    1.653</td>\n",
       "</tr>\n",
       "<tr>\n",
       "  <th>x</th>         <td>    1.6953</td> <td>    0.164</td> <td>   10.362</td> <td> 0.000</td> <td>    1.371</td> <td>    2.020</td>\n",
       "</tr>\n",
       "</table>\n",
       "<table class=\"simpletable\">\n",
       "<tr>\n",
       "  <th>Omnibus:</th>       <td>24.566</td> <th>  Durbin-Watson:     </th> <td>   2.211</td>\n",
       "</tr>\n",
       "<tr>\n",
       "  <th>Prob(Omnibus):</th> <td> 0.000</td> <th>  Jarque-Bera (JB):  </th> <td>  38.869</td>\n",
       "</tr>\n",
       "<tr>\n",
       "  <th>Skew:</th>          <td> 1.071</td> <th>  Prob(JB):          </th> <td>3.63e-09</td>\n",
       "</tr>\n",
       "<tr>\n",
       "  <th>Kurtosis:</th>      <td> 5.155</td> <th>  Cond. No.          </th> <td>    1.26</td>\n",
       "</tr>\n",
       "</table><br/><br/>Warnings:<br/>[1] Standard Errors assume that the covariance matrix of the errors is correctly specified."
      ],
      "text/plain": [
       "<class 'statsmodels.iolib.summary.Summary'>\n",
       "\"\"\"\n",
       "                            OLS Regression Results                            \n",
       "==============================================================================\n",
       "Dep. Variable:                      y   R-squared:                       0.520\n",
       "Model:                            OLS   Adj. R-squared:                  0.515\n",
       "Method:                 Least Squares   F-statistic:                     107.4\n",
       "Date:                Sun, 19 Jan 2020   Prob (F-statistic):           1.78e-17\n",
       "Time:                        19:58:20   Log-Likelihood:                -169.23\n",
       "No. Observations:                 101   AIC:                             342.5\n",
       "Df Residuals:                      99   BIC:                             347.7\n",
       "Df Model:                           1                                         \n",
       "Covariance Type:            nonrobust                                         \n",
       "==============================================================================\n",
       "                 coef    std err          t      P>|t|      [0.025      0.975]\n",
       "------------------------------------------------------------------------------\n",
       "Intercept      1.3950      0.130     10.738      0.000       1.137       1.653\n",
       "x              1.6953      0.164     10.362      0.000       1.371       2.020\n",
       "==============================================================================\n",
       "Omnibus:                       24.566   Durbin-Watson:                   2.211\n",
       "Prob(Omnibus):                  0.000   Jarque-Bera (JB):               38.869\n",
       "Skew:                           1.071   Prob(JB):                     3.63e-09\n",
       "Kurtosis:                       5.155   Cond. No.                         1.26\n",
       "==============================================================================\n",
       "\n",
       "Warnings:\n",
       "[1] Standard Errors assume that the covariance matrix of the errors is correctly specified.\n",
       "\"\"\""
      ]
     },
     "execution_count": 18,
     "metadata": {},
     "output_type": "execute_result"
    }
   ],
   "source": [
    "model.summary()"
   ]
  },
  {
   "cell_type": "markdown",
   "metadata": {},
   "source": [
    "### Question 8: /1 Mark(s)\n",
    "\n",
    "a) Do you see any major problems with the predictions from linear regression? Keep in mind that this model is intended to model counts of things. Provide your answer below in markdown in fewer than 5 sentences.\n",
    "\n",
    "---\n",
    "\n",
    "a) Yes, clearly the model doesn't output a useful model. One of the reasons is because linear regression relies on the assumption of normally distributed errors but because we are using counting data that is skewed, this is not the case. Also, linear regression relies on continous data but since this data is count data it is discrete.\n",
    "\n",
    "\n"
   ]
  },
  {
   "cell_type": "markdown",
   "metadata": {},
   "source": [
    "### Follow These Instructions\n",
    "\n",
    "Once you are finished, ensure to complete the following steps.\n",
    "\n",
    "1.  Restart your kernel by clicking 'Kernel' > 'Restart & Run All'.\n",
    "\n",
    "2.  Fix any errors which result from this.\n",
    "\n",
    "3.  Repeat steps 1. and 2. until your notebook runs without errors.\n",
    "\n",
    "4.  Submit your completed notebook to OWL by the deadline."
   ]
  },
  {
   "cell_type": "code",
   "execution_count": null,
   "metadata": {},
   "outputs": [],
   "source": []
  }
 ],
 "metadata": {
  "kernelspec": {
   "display_name": "Python 3",
   "language": "python",
   "name": "python3"
  },
  "language_info": {
   "codemirror_mode": {
    "name": "ipython",
    "version": 3
   },
   "file_extension": ".py",
   "mimetype": "text/x-python",
   "name": "python",
   "nbconvert_exporter": "python",
   "pygments_lexer": "ipython3",
   "version": "3.7.1"
  }
 },
 "nbformat": 4,
 "nbformat_minor": 4
}
